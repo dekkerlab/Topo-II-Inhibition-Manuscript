{
 "cells": [
  {
   "cell_type": "code",
   "execution_count": null,
   "metadata": {},
   "outputs": [],
   "source": [
    "#Use conda env minimap_conda_env.yml to create conda env for this script\n",
    "#This is an example script of mapping MC-3C data using minimap2\n",
    "#It is run from within the 'scripts' subdirectory, using following directory structure:\n",
    "#Analysis_Dir\n",
    "#├── data\n",
    "#    ├── permutations\n",
    "#├── alignments\n",
    "#├── figures\n",
    "#├── scripts\n",
    "#├── lsf_jobs"
   ]
  },
  {
   "cell_type": "code",
   "execution_count": null,
   "metadata": {},
   "outputs": [],
   "source": [
    "import bioframe\n",
    "import pandas as pd\n",
    "import numpy as np\n",
    "import matplotlib as mpl\n",
    "import matplotlib.pyplot as plt\n",
    "%matplotlib inline"
   ]
  },
  {
   "cell_type": "code",
   "execution_count": null,
   "metadata": {},
   "outputs": [],
   "source": [
    "R1FastqDir = #path_to_mc3c_fastq_files\n",
    "outDataDir = '../'"
   ]
  },
  {
   "cell_type": "code",
   "execution_count": null,
   "metadata": {},
   "outputs": [],
   "source": [
    "conditions = [\n",
    "    't0Mit_R1_T1',\n",
    "    't2_R1',\n",
    "    't4DMSO_R1',\n",
    "    't4ICRF_R1',\n",
    "    't8DMSO_R1',\n",
    "    't8ICRF_R1',\n",
    "    't0Mit_R1_T2',\n",
    "    't0Mit_R2',\n",
    "    't2_R2',\n",
    "    't4DMSO_R2',\n",
    "    't4ICRF_R2',\n",
    "    't8DMSO_R2',\n",
    "    't8ICRF_R2',\n",
    "    't0Mit_R3',\n",
    "    't2_R3',\n",
    "    't4DMSO_R3',\n",
    "    't4ICRF_R3',\n",
    "    't8DMSO_R3',\n",
    "    't8ICRF_R3'\n",
    "]\n",
    "\n",
    "long_names = {\n",
    "    't0Mit_R1_T1' : 'TI-MC3C-Dpn-t0Mit-4-30',\n",
    "    't2_R1' : 'TI-MC3C-Dpn-t2-4-30',\n",
    "    't4DMSO_R1' : 'TI-MC3C-Dpn-t4DMSO-4-30',\n",
    "    't4ICRF_R1' : 'TI-MC3C-Dpn-t4ICRF-4-30',\n",
    "    't8DMSO_R1' : 'TI-MC3C-Dpn-t8DMSO-4-30',\n",
    "    't8ICRF_R1' : 'TI-MC3C-Dpn-t8ICRF-4-30',\n",
    "    't0Mit_R1_T2' : 'TI-MC3C-Dpn-t0Mit-4-30-T2',\n",
    "    't0Mit_R2' : 'TI-MC3C-Dpn-t0Mit-4-39',\n",
    "    't2_R2' : 'TI-MC3C-Dpn-t2-4-39',\n",
    "    't4DMSO_R2' : 'TI-MC3C-Dpn-t4DMSO-4-39',\n",
    "    't4ICRF_R2' : 'TI-MC3C-Dpn-t4ICRF-4-39',\n",
    "    't8DMSO_R2' : 'TI-MC3C-Dpn-t8DMSO-4-39',\n",
    "    't8ICRF_R2' : 'TI-MC3C-Dpn-t8ICRF-4-39',\n",
    "    't0Mit_R3' : 'TI-MC3C-Dpn-t0Mit-R3-5-14',\n",
    "    't2_R3' : 'TI-MC3C-Dpn-t2-R3-5-14',\n",
    "    't4DMSO_R3' : 'TI-MC3C-Dpn-t4DMSO-R3-5-14',\n",
    "    't4ICRF_R3' : 'TI-MC3C-Dpn-t4ICRF-R3-5-14',\n",
    "    't8DMSO_R3' : 'TI-MC3C-Dpn-t8DMSO-R3-5-14',\n",
    "    't8ICRF_R3' : 'TI-MC3C-Dpn-t8ICRF-R3-5-14'\n",
    "}"
   ]
  },
  {
   "cell_type": "code",
   "execution_count": null,
   "metadata": {},
   "outputs": [],
   "source": [
    "fastq_files = {}\n",
    "for cond in conditions:\n",
    "    fastq_files[cond] = f'{R1FastqDir}/{long_names[cond]}.fastq.gz'"
   ]
  },
  {
   "cell_type": "code",
   "execution_count": null,
   "metadata": {},
   "outputs": [],
   "source": [
    "refDir = f'{outDataDir}/data'\n",
    "ref_genome_file = f'{outDataDir}/data/GRCh38_no_alt_analysis_set_GCA_000001405.15.fasta.gz'\n",
    "#from https://www.encodeproject.org/files/GRCh38_no_alt_analysis_set_GCA_000001405.15/"
   ]
  },
  {
   "cell_type": "code",
   "execution_count": null,
   "metadata": {},
   "outputs": [],
   "source": [
    "alignmentDir = f'{outDataDir}/alignments'\n",
    "output_filenames = {}\n",
    "for cond in conditions:\n",
    "    output_filenames[cond] = f'{alignmentDir}/{long_names[cond]}.hg38.minimap2.output.paf'"
   ]
  },
  {
   "cell_type": "code",
   "execution_count": null,
   "metadata": {},
   "outputs": [],
   "source": [
    "#--secondary no reports only primary alignments\n",
    "\n",
    "for cond in conditions:\n",
    "    in_fname = fastq_files[cond]\n",
    "    out_fname = output_filenames[cond]\n",
    "    !bsub -q short -W 04:00 -e ../lsf_jobs/LSB_%J.err -o ../lsf_jobs/LSB_%J.log \\\n",
    "        -n 3 -R span[hosts=1] -R select[ib] -R rusage[mem=8000]\\\n",
    "        \"minimap2 --secondary=no $ref_genome_file $in_fname > $out_fname\""
   ]
  }
 ],
 "metadata": {
  "kernelspec": {
   "display_name": "Python 3 (ipykernel)",
   "language": "python",
   "name": "python3"
  },
  "language_info": {
   "codemirror_mode": {
    "name": "ipython",
    "version": 3
   },
   "file_extension": ".py",
   "mimetype": "text/x-python",
   "name": "python",
   "nbconvert_exporter": "python",
   "pygments_lexer": "ipython3",
   "version": "3.9.12"
  }
 },
 "nbformat": 4,
 "nbformat_minor": 4
}
