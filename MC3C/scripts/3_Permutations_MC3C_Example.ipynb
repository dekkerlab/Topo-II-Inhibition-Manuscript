{
 "cells": [
  {
   "cell_type": "code",
   "execution_count": null,
   "id": "a48e1017",
   "metadata": {},
   "outputs": [],
   "source": [
    "#Use conda env minimap_conda_env.yml to create conda env for this script\n",
    "#This is an example script of permuting the order of interactions in mapped/annotated MC-3C data for further analysis\n",
    "#It is run from within the 'scripts' subdirectory, using following directory structure:\n",
    "#Analysis_Dir\n",
    "#├── data\n",
    "#    ├── permutations\n",
    "#├── alignments\n",
    "#├── figures\n",
    "#├── scripts\n",
    "#├── lsf_jobs"
   ]
  },
  {
   "cell_type": "code",
   "execution_count": null,
   "id": "3176aef0",
   "metadata": {},
   "outputs": [],
   "source": [
    "import bioframe\n",
    "import pandas as pd\n",
    "import numpy as np\n",
    "import matplotlib as mpl\n",
    "import matplotlib.pyplot as plt\n",
    "from matplotlib import gridspec\n",
    "from matplotlib import cm\n",
    "from matplotlib.gridspec import GridSpec\n",
    "from matplotlib.gridspec import GridSpecFromSubplotSpec\n",
    "import matplotlib.colors as colors\n",
    "from matplotlib.colors import ListedColormap\n",
    "import random\n",
    "import seaborn as sns\n",
    "import scipy\n",
    "import pickle\n",
    "%matplotlib inline\n",
    "plt.style.use('seaborn-white')"
   ]
  },
  {
   "cell_type": "code",
   "execution_count": null,
   "id": "0dd7ab0f",
   "metadata": {},
   "outputs": [],
   "source": [
    "conditions = [\n",
    "    't0Mit_R1_T1',\n",
    "    't2_R1',\n",
    "    't4DMSO_R1',\n",
    "    't4ICRF_R1',\n",
    "    't8DMSO_R1',\n",
    "    't8ICRF_R1',\n",
    "    't0Mit_R1_T2',\n",
    "    't0Mit_R2',\n",
    "    't2_R2',\n",
    "    't4DMSO_R2',\n",
    "    't4ICRF_R2',\n",
    "    't8DMSO_R2',\n",
    "    't8ICRF_R2',\n",
    "    't0Mit_R3',\n",
    "    't2_R3',\n",
    "    't4DMSO_R3',\n",
    "    't4ICRF_R3',\n",
    "    't8DMSO_R3',\n",
    "    't8ICRF_R3',   \n",
    "]\n",
    "\n",
    "long_names = {\n",
    "    't0Mit_R1_T1' : 'TI-MC3C-Dpn-t0Mit-4-30',\n",
    "    't2_R1' : 'TI-MC3C-Dpn-t2-4-30',\n",
    "    't4DMSO_R1' : 'TI-MC3C-Dpn-t4DMSO-4-30',\n",
    "    't4ICRF_R1' : 'TI-MC3C-Dpn-t4ICRF-4-30',\n",
    "    't8DMSO_R1' : 'TI-MC3C-Dpn-t8DMSO-4-30',\n",
    "    't8ICRF_R1' : 'TI-MC3C-Dpn-t8ICRF-4-30',\n",
    "    't0Mit_R1_T2' : 'TI-MC3C-Dpn-t0Mit-4-30-T2',\n",
    "    't0Mit_R2' : 'TI-MC3C-Dpn-t0Mit-4-39',\n",
    "    't2_R2' : 'TI-MC3C-Dpn-t2-4-39',\n",
    "    't4DMSO_R2' : 'TI-MC3C-Dpn-t4DMSO-4-39',\n",
    "    't4ICRF_R2' : 'TI-MC3C-Dpn-t4ICRF-4-39',\n",
    "    't8DMSO_R2' : 'TI-MC3C-Dpn-t8DMSO-4-39',\n",
    "    't8ICRF_R2' : 'TI-MC3C-Dpn-t8ICRF-4-39',\n",
    "    't0Mit_R3' : 'TI-MC3C-Dpn-t0Mit-R3-5-14',\n",
    "    't2_R3' : 'TI-MC3C-Dpn-t2-R3-5-14',\n",
    "    't4DMSO_R3' : 'TI-MC3C-Dpn-t4DMSO-R3-5-14',\n",
    "    't4ICRF_R3' : 'TI-MC3C-Dpn-t4ICRF-R3-5-14',\n",
    "    't8DMSO_R3' : 'TI-MC3C-Dpn-t8DMSO-R3-5-14',\n",
    "    't8ICRF_R3' : 'TI-MC3C-Dpn-t8ICRF-R3-5-14',\n",
    "}"
   ]
  },
  {
   "cell_type": "code",
   "execution_count": null,
   "id": "2f188d0b",
   "metadata": {},
   "outputs": [],
   "source": [
    "#make shuffled/permuted walks - 100 iterations"
   ]
  },
  {
   "cell_type": "code",
   "execution_count": null,
   "id": "3dff00d4",
   "metadata": {},
   "outputs": [],
   "source": [
    "iterations = range(100)"
   ]
  },
  {
   "cell_type": "code",
   "execution_count": null,
   "id": "42d4ffab",
   "metadata": {},
   "outputs": [],
   "source": [
    "outDataDir = '/nl/umw_job_dekker/users/eh37w/Topo-Inhib/Manuscript_ExactSubsampling/Figure4/data'\n",
    "alignmentFile = f'{outDataDir}/220517_MRICRF_R1R2R3_real_walks_full_overlap_df_dict_100kbEigs.pkl'\n",
    "\n",
    "for i in iterations:\n",
    "    !bsub -q short -W 04:00 \\\n",
    "        -n 8 -R span[hosts=1] -R select[ib] -R rusage[mem=8000] -R select[rh=8] -N \\\n",
    "        \"python 220517_R1R2R3_MRICRF_PermuteWalksFirst6Steps.py $i $alignmentFile $outDataDir\""
   ]
  },
  {
   "cell_type": "code",
   "execution_count": null,
   "id": "e7ba9f47",
   "metadata": {},
   "outputs": [],
   "source": []
  }
 ],
 "metadata": {
  "kernelspec": {
   "display_name": "Python 3 (ipykernel)",
   "language": "python",
   "name": "python3"
  },
  "language_info": {
   "codemirror_mode": {
    "name": "ipython",
    "version": 3
   },
   "file_extension": ".py",
   "mimetype": "text/x-python",
   "name": "python",
   "nbconvert_exporter": "python",
   "pygments_lexer": "ipython3",
   "version": "3.9.12"
  }
 },
 "nbformat": 4,
 "nbformat_minor": 5
}
