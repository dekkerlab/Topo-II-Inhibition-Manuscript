{
 "cells": [
  {
   "cell_type": "code",
   "execution_count": 12,
   "metadata": {},
   "outputs": [],
   "source": [
    "import bioframe\n",
    "import pandas as pd\n",
    "import numpy as np\n",
    "import matplotlib as mpl\n",
    "import matplotlib.pyplot as plt\n",
    "%matplotlib inline"
   ]
  },
  {
   "cell_type": "code",
   "execution_count": 13,
   "metadata": {},
   "outputs": [],
   "source": [
    "R1FastqDir = \"/nl/umw_job_dekker/users/eh37w/Topo-Inhib/MC3C/fastq/exp4-30\"\n",
    "R2FastqDir = \"/nl/umw_job_dekker/users/eh37w/Topo-Inhib/MC3C/fastq/exp4-39\""
   ]
  },
  {
   "cell_type": "code",
   "execution_count": 14,
   "metadata": {},
   "outputs": [],
   "source": [
    "conditions = [\n",
    "    't0Mit_R1_T1',\n",
    "    't2_R1',\n",
    "    't4DMSO_R1',\n",
    "    't4ICRF_R1',\n",
    "    't8DMSO_R1',\n",
    "    't8ICRF_R1',\n",
    "    't0Mit_R1_T2',\n",
    "    't0Mit_R2',\n",
    "    't2_R2',\n",
    "    't4DMSO_R2',\n",
    "    't4ICRF_R2',\n",
    "    't8DMSO_R2',\n",
    "    't8ICRF_R2'\n",
    "]\n",
    "\n",
    "long_names = {\n",
    "    't0Mit_R1_T1' : 'TI-MC3C-Dpn-t0Mit-4-30',\n",
    "    't2_R1' : 'TI-MC3C-Dpn-t2-4-30',\n",
    "    't4DMSO_R1' : 'TI-MC3C-Dpn-t4DMSO-4-30',\n",
    "    't4ICRF_R1' : 'TI-MC3C-Dpn-t4ICRF-4-30',\n",
    "    't8DMSO_R1' : 'TI-MC3C-Dpn-t8DMSO-4-30',\n",
    "    't8ICRF_R1' : 'TI-MC3C-Dpn-t8ICRF-4-30',\n",
    "    't0Mit_R1_T2' : 'TI-MC3C-Dpn-t0Mit-4-30-T2',\n",
    "    't0Mit_R2' : 'TI-MC3C-Dpn-t0Mit-4-39',\n",
    "    't2_R2' : 'TI-MC3C-Dpn-t2-4-39',\n",
    "    't4DMSO_R2' : 'TI-MC3C-Dpn-t4DMSO-4-39',\n",
    "    't4ICRF_R2' : 'TI-MC3C-Dpn-t4ICRF-4-39',\n",
    "    't8DMSO_R2' : 'TI-MC3C-Dpn-t8DMSO-4-39',\n",
    "    't8ICRF_R2' : 'TI-MC3C-Dpn-t8ICRF-4-39'\n",
    "}"
   ]
  },
  {
   "cell_type": "code",
   "execution_count": 15,
   "metadata": {},
   "outputs": [],
   "source": [
    "fastq_files = {}\n",
    "for cond in conditions[0:6]:\n",
    "    fastq_files[cond] = f'{R1FastqDir}/{long_names[cond]}.fastq.gz'\n",
    "for cond in conditions[6:13]:\n",
    "    fastq_files[cond] = f'{R2FastqDir}/{long_names[cond]}.fastq.gz'    "
   ]
  },
  {
   "cell_type": "code",
   "execution_count": 16,
   "metadata": {},
   "outputs": [
    {
     "data": {
      "text/plain": [
       "{'t0Mit_R1_T1': '/nl/umw_job_dekker/users/eh37w/Topo-Inhib/MC3C/fastq/exp4-30/TI-MC3C-Dpn-t0Mit-4-30.fastq.gz',\n",
       " 't2_R1': '/nl/umw_job_dekker/users/eh37w/Topo-Inhib/MC3C/fastq/exp4-30/TI-MC3C-Dpn-t2-4-30.fastq.gz',\n",
       " 't4DMSO_R1': '/nl/umw_job_dekker/users/eh37w/Topo-Inhib/MC3C/fastq/exp4-30/TI-MC3C-Dpn-t4DMSO-4-30.fastq.gz',\n",
       " 't4ICRF_R1': '/nl/umw_job_dekker/users/eh37w/Topo-Inhib/MC3C/fastq/exp4-30/TI-MC3C-Dpn-t4ICRF-4-30.fastq.gz',\n",
       " 't8DMSO_R1': '/nl/umw_job_dekker/users/eh37w/Topo-Inhib/MC3C/fastq/exp4-30/TI-MC3C-Dpn-t8DMSO-4-30.fastq.gz',\n",
       " 't8ICRF_R1': '/nl/umw_job_dekker/users/eh37w/Topo-Inhib/MC3C/fastq/exp4-30/TI-MC3C-Dpn-t8ICRF-4-30.fastq.gz',\n",
       " 't0Mit_R1_T2': '/nl/umw_job_dekker/users/eh37w/Topo-Inhib/MC3C/fastq/exp4-39/TI-MC3C-Dpn-t0Mit-4-30-T2.fastq.gz',\n",
       " 't0Mit_R2': '/nl/umw_job_dekker/users/eh37w/Topo-Inhib/MC3C/fastq/exp4-39/TI-MC3C-Dpn-t0Mit-4-39.fastq.gz',\n",
       " 't2_R2': '/nl/umw_job_dekker/users/eh37w/Topo-Inhib/MC3C/fastq/exp4-39/TI-MC3C-Dpn-t2-4-39.fastq.gz',\n",
       " 't4DMSO_R2': '/nl/umw_job_dekker/users/eh37w/Topo-Inhib/MC3C/fastq/exp4-39/TI-MC3C-Dpn-t4DMSO-4-39.fastq.gz',\n",
       " 't4ICRF_R2': '/nl/umw_job_dekker/users/eh37w/Topo-Inhib/MC3C/fastq/exp4-39/TI-MC3C-Dpn-t4ICRF-4-39.fastq.gz',\n",
       " 't8DMSO_R2': '/nl/umw_job_dekker/users/eh37w/Topo-Inhib/MC3C/fastq/exp4-39/TI-MC3C-Dpn-t8DMSO-4-39.fastq.gz',\n",
       " 't8ICRF_R2': '/nl/umw_job_dekker/users/eh37w/Topo-Inhib/MC3C/fastq/exp4-39/TI-MC3C-Dpn-t8ICRF-4-39.fastq.gz'}"
      ]
     },
     "execution_count": 16,
     "metadata": {},
     "output_type": "execute_result"
    }
   ],
   "source": [
    "fastq_files"
   ]
  },
  {
   "cell_type": "code",
   "execution_count": 17,
   "metadata": {},
   "outputs": [],
   "source": [
    "refDir = '/nl/umw_job_dekker/users/eh37w/Topo-Inhib/MC3C/minimap/reference'\n",
    "ref_genome_file = f'{refDir}/hg19.fa'"
   ]
  },
  {
   "cell_type": "code",
   "execution_count": 18,
   "metadata": {},
   "outputs": [],
   "source": [
    "alignmentDir = '/nl/umw_job_dekker/users/eh37w/Topo-Inhib/MC3C/minimap/alignments'\n",
    "output_filenames = {}\n",
    "for cond in conditions:\n",
    "    output_filenames[cond] = f'{alignmentDir}/{long_names[cond]}.minimap2.output.paf'"
   ]
  },
  {
   "cell_type": "code",
   "execution_count": 22,
   "metadata": {},
   "outputs": [
    {
     "name": "stdout",
     "output_type": "stream",
     "text": [
      "Job <3045922> is submitted to queue <short>.\n",
      "Job <3045923> is submitted to queue <short>.\n",
      "Job <3045924> is submitted to queue <short>.\n",
      "Job <3045925> is submitted to queue <short>.\n",
      "Job <3045926> is submitted to queue <short>.\n",
      "Job <3045927> is submitted to queue <short>.\n",
      "Job <3045928> is submitted to queue <short>.\n",
      "Job <3045929> is submitted to queue <short>.\n",
      "Job <3045930> is submitted to queue <short>.\n",
      "Job <3045931> is submitted to queue <short>.\n",
      "Job <3045932> is submitted to queue <short>.\n",
      "Job <3045933> is submitted to queue <short>.\n",
      "Job <3045934> is submitted to queue <short>.\n"
     ]
    }
   ],
   "source": [
    "#--secondary no reports only primary alignments\n",
    "#Ran this already - worked fine! Although there are some extra columns that I'm not sure what they are...\n",
    "\n",
    "for cond in conditions:\n",
    "    in_fname = fastq_files[cond]\n",
    "    out_fname = output_filenames[cond]\n",
    "    !bsub -q short -W 04:00 -e /home/eh37w/lsf_jobs/LSB_%J.err -o /home/eh37w/lsf_jobs/LSB_%J.log \\\n",
    "        -n 3 -R span[hosts=1] -R select[ib] -R rusage[mem=8000] -N -u erica.hildebrand@umassmed.edu \\\n",
    "        \"minimap2 --secondary=no $ref_genome_file $in_fname > $out_fname\""
   ]
  },
  {
   "cell_type": "code",
   "execution_count": 19,
   "metadata": {},
   "outputs": [],
   "source": [
    "output_filenames_2 = {}\n",
    "for cond in conditions:\n",
    "    output_filenames_2[cond] = f'{alignmentDir}/{long_names[cond]}.minimap2.KeepUnmapped.output.paf'"
   ]
  },
  {
   "cell_type": "code",
   "execution_count": 21,
   "metadata": {},
   "outputs": [
    {
     "name": "stdout",
     "output_type": "stream",
     "text": [
      "Job <3045909> is submitted to queue <short>.\n",
      "Job <3045910> is submitted to queue <short>.\n",
      "Job <3045911> is submitted to queue <short>.\n",
      "Job <3045912> is submitted to queue <short>.\n",
      "Job <3045913> is submitted to queue <short>.\n",
      "Job <3045914> is submitted to queue <short>.\n",
      "Job <3045915> is submitted to queue <short>.\n",
      "Job <3045916> is submitted to queue <short>.\n",
      "Job <3045917> is submitted to queue <short>.\n",
      "Job <3045918> is submitted to queue <short>.\n",
      "Job <3045919> is submitted to queue <short>.\n",
      "Job <3045920> is submitted to queue <short>.\n",
      "Job <3045921> is submitted to queue <short>.\n"
     ]
    }
   ],
   "source": [
    "#--secondary no reports only primary alignments\n",
    "#Also trying with reporting unmapped reads as well - might help id full walks??\n",
    "\n",
    "for cond in conditions:\n",
    "    in_fname = fastq_files[cond]\n",
    "    out_fname = output_filenames_2[cond]\n",
    "    !bsub -q short -W 04:00 -e /home/eh37w/lsf_jobs/LSB_%J.err -o /home/eh37w/lsf_jobs/LSB_%J.log \\\n",
    "        -n 3 -R span[hosts=1] -R select[ib] -R rusage[mem=8000] -N -u erica.hildebrand@umassmed.edu \\\n",
    "        \"minimap2 --secondary=no --paf-no-hit $ref_genome_file $in_fname > $out_fname\""
   ]
  },
  {
   "cell_type": "code",
   "execution_count": null,
   "metadata": {},
   "outputs": [],
   "source": []
  }
 ],
 "metadata": {
  "kernelspec": {
   "display_name": "Python 3",
   "language": "python",
   "name": "python3"
  },
  "language_info": {
   "codemirror_mode": {
    "name": "ipython",
    "version": 3
   },
   "file_extension": ".py",
   "mimetype": "text/x-python",
   "name": "python",
   "nbconvert_exporter": "python",
   "pygments_lexer": "ipython3",
   "version": "3.7.9"
  }
 },
 "nbformat": 4,
 "nbformat_minor": 5
}
