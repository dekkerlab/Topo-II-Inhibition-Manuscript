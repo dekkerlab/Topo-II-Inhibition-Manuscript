{
 "cells": [
  {
   "cell_type": "code",
   "execution_count": 1,
   "metadata": {},
   "outputs": [],
   "source": [
    "#Use conda env minimap_conda_env.yml to create conda env for this script\n",
    "#This is an example script of mapping MC-3C data using minimap2\n",
    "#It is run from within the 'scripts' subdirectory, using following directory structure:\n",
    "#Analysis_Dir\n",
    "#├── data\n",
    "#    ├── permutations\n",
    "#├── alignments\n",
    "#├── figures\n",
    "#├── scripts\n",
    "#├── lsf_jobs"
   ]
  },
  {
   "cell_type": "code",
   "execution_count": 2,
   "metadata": {},
   "outputs": [],
   "source": [
    "import bioframe\n",
    "import pandas as pd\n",
    "import numpy as np\n",
    "import matplotlib as mpl\n",
    "import matplotlib.pyplot as plt\n",
    "%matplotlib inline"
   ]
  },
  {
   "cell_type": "code",
   "execution_count": 11,
   "metadata": {},
   "outputs": [],
   "source": [
    "R1FastqDir = #path_to_mc3c_fastq_files\n",
    "outDataDir = '../'"
   ]
  },
  {
   "cell_type": "code",
   "execution_count": 12,
   "metadata": {},
   "outputs": [],
   "source": [
    "conditions = [\n",
    "    'Ctrl_R1',\n",
    "    'IAA_R1',\n",
    "    'ICRF_R1',\n",
    "    'IAA_ICRF_R1'\n",
    "]\n",
    "\n",
    "long_names = {\n",
    "    'Ctrl_R1' : \"TI-MC3C-Ctrl-R1-4-40\",\n",
    "    'IAA_R1' : \"TI-MC3C-IAA-R1-4-40\",\n",
    "    'ICRF_R1' : \"TI-MC3C-ICRF-R1-4-40\",\n",
    "    'IAA_ICRF_R1' : \"TI-MC3C-IAA-ICRF-R1-4-40\",\n",
    "}"
   ]
  },
  {
   "cell_type": "code",
   "execution_count": 13,
   "metadata": {},
   "outputs": [],
   "source": [
    "fastq_files = {}\n",
    "for cond in conditions:\n",
    "    fastq_files[cond] = f'{R1FastqDir}/{long_names[cond]}.fastq.gz'"
   ]
  },
  {
   "cell_type": "code",
   "execution_count": 14,
   "metadata": {},
   "outputs": [
    {
     "data": {
      "text/plain": [
       "{'Ctrl_R1': '/nl/umw_job_dekker/users/eh37w/Topo-Inhib/Manuscript_Organized_August2021/minimap_runs/Rad21ICRF_MC3C/exp4-40/TI-MC3C-Ctrl-R1-4-40.fastq.gz',\n",
       " 'IAA_R1': '/nl/umw_job_dekker/users/eh37w/Topo-Inhib/Manuscript_Organized_August2021/minimap_runs/Rad21ICRF_MC3C/exp4-40/TI-MC3C-IAA-R1-4-40.fastq.gz',\n",
       " 'ICRF_R1': '/nl/umw_job_dekker/users/eh37w/Topo-Inhib/Manuscript_Organized_August2021/minimap_runs/Rad21ICRF_MC3C/exp4-40/TI-MC3C-ICRF-R1-4-40.fastq.gz',\n",
       " 'IAA_ICRF_R1': '/nl/umw_job_dekker/users/eh37w/Topo-Inhib/Manuscript_Organized_August2021/minimap_runs/Rad21ICRF_MC3C/exp4-40/TI-MC3C-IAA-ICRF-R1-4-40.fastq.gz'}"
      ]
     },
     "execution_count": 14,
     "metadata": {},
     "output_type": "execute_result"
    }
   ],
   "source": [
    "fastq_files"
   ]
  },
  {
   "cell_type": "code",
   "execution_count": 15,
   "metadata": {},
   "outputs": [],
   "source": [
    "refDir = f'{outDataDir}/data'\n",
    "ref_genome_file = f'{outDataDir}/data/GRCh38_no_alt_analysis_set_GCA_000001405.15.fasta.gz'\n",
    "#from https://www.encodeproject.org/files/GRCh38_no_alt_analysis_set_GCA_000001405.15/"
   ]
  },
  {
   "cell_type": "code",
   "execution_count": 16,
   "metadata": {},
   "outputs": [],
   "source": [
    "alignmentDir = f'{outDataDir}/alignments'\n",
    "output_filenames = {}\n",
    "for cond in conditions:\n",
    "    output_filenames[cond] = f'{alignmentDir}/{long_names[cond]}.hg38.minimap2.output.paf'"
   ]
  },
  {
   "cell_type": "code",
   "execution_count": 17,
   "metadata": {},
   "outputs": [
    {
     "name": "stdout",
     "output_type": "stream",
     "text": [
      "WARN: Job does not specify node OS version.  Setting 'bsub -R \"select[rh=6]\"'\n",
      "Job <4924055> is submitted to queue <short>.\n",
      "WARN: Job does not specify node OS version.  Setting 'bsub -R \"select[rh=6]\"'\n",
      "Job <4924056> is submitted to queue <short>.\n",
      "WARN: Job does not specify node OS version.  Setting 'bsub -R \"select[rh=6]\"'\n",
      "Job <4924057> is submitted to queue <short>.\n",
      "WARN: Job does not specify node OS version.  Setting 'bsub -R \"select[rh=6]\"'\n",
      "Job <4924058> is submitted to queue <short>.\n"
     ]
    }
   ],
   "source": [
    "#--secondary no reports only primary alignments\n",
    "\n",
    "for cond in conditions:\n",
    "    in_fname = fastq_files[cond]\n",
    "    out_fname = output_filenames[cond]\n",
    "    !bsub -q short -W 04:00 -e ../lsf_jobs/LSB_%J.err -o ../lsf_jobs/LSB_%J.log \\\n",
    "        -n 3 -R span[hosts=1] -R select[ib] -R rusage[mem=8000]\\\n",
    "        \"minimap2 --secondary=no $ref_genome_file $in_fname > $out_fname\""
   ]
  },
  {
   "cell_type": "code",
   "execution_count": null,
   "metadata": {},
   "outputs": [],
   "source": []
  },
  {
   "cell_type": "code",
   "execution_count": null,
   "metadata": {},
   "outputs": [],
   "source": []
  }
 ],
 "metadata": {
  "kernelspec": {
   "display_name": "Python [conda env:minimap-env] *",
   "language": "python",
   "name": "conda-env-minimap-env-py"
  },
  "language_info": {
   "codemirror_mode": {
    "name": "ipython",
    "version": 3
   },
   "file_extension": ".py",
   "mimetype": "text/x-python",
   "name": "python",
   "nbconvert_exporter": "python",
   "pygments_lexer": "ipython3",
   "version": "3.9.7"
  }
 },
 "nbformat": 4,
 "nbformat_minor": 4
}
