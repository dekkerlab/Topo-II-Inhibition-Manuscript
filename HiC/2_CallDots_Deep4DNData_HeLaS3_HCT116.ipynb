{
 "cells": [
  {
   "cell_type": "code",
   "execution_count": null,
   "metadata": {},
   "outputs": [],
   "source": [
    "#Use conda env cooltools_read_norm_env.yml to create conda env for this script\n",
    "#This is an example script of calling dots/loops from deep Hi-C datasets (published, downloaded from 4DN website) \n",
    "#It is run from within the 'scripts' subdirectory, using following directory structure:\n",
    "#Analysis_Dir\n",
    "#├── data\n",
    "#├── figures\n",
    "#├── scripts\n",
    "#├── lsf_jobs\n"
   ]
  },
  {
   "cell_type": "code",
   "execution_count": null,
   "metadata": {},
   "outputs": [],
   "source": [
    "#Calling dots at 5, 10kb bins on deep 4DN datasets to use for aggregate dot pileups for Topo II experiments"
   ]
  },
  {
   "cell_type": "code",
   "execution_count": 3,
   "metadata": {},
   "outputs": [],
   "source": [
    "%matplotlib inline\n",
    "import matplotlib.pyplot as plt\n",
    "import numpy as np\n",
    "import pandas as pd\n",
    "import h5py\n",
    "import bioframe\n",
    "from matplotlib.gridspec import GridSpec\n",
    "from matplotlib.gridspec import GridSpecFromSubplotSpec\n",
    "import matplotlib.colors as colors\n",
    "import cooler\n",
    "import seaborn as sns\n",
    "from matplotlib.colors import ListedColormap\n",
    "import os\n",
    "import matplotlib as mpl\n",
    "import cooltools\n",
    "import cooltools.expected\n",
    "import cooltools.saddle\n",
    "import cooler\n",
    "import re\n",
    "import itertools\n",
    "import peaktools"
   ]
  },
  {
   "cell_type": "code",
   "execution_count": 4,
   "metadata": {},
   "outputs": [],
   "source": [
    "dataDir = #\"path/to/mcool/files\"\n",
    "\n",
    "conditions = [\n",
    "    '4DN_HeLaS3',\n",
    "    '4DN_HCT116mAC'\n",
    "]\n",
    "\n",
    "clr_names = {    \n",
    "    '4DN_HeLaS3' : 'HeLaS3_4DN_Deep/4DNFIBM9QCFG.mcool', #https://data.4dnucleome.org/files-processed/4DNFIBM9QCFG/#details\n",
    "    '4DN_HCT116mAC' : 'HCT116_Rad21mAC_Untreated_Rao2017/4DNFIFLDVASC.mcool' #https://data.4dnucleome.org/files-processed/4DNFIFLDVASC/\n",
    "}"
   ]
  },
  {
   "cell_type": "code",
   "execution_count": 5,
   "metadata": {},
   "outputs": [],
   "source": [
    "binsizes = [5000, 10000]"
   ]
  },
  {
   "cell_type": "code",
   "execution_count": 6,
   "metadata": {},
   "outputs": [],
   "source": [
    "clrPaths = {}\n",
    "for cond in conditions:\n",
    "    clrPaths[cond] = {}\n",
    "    for size in binsizes:\n",
    "        clrPaths[cond][size] = f'{dataDir}/{clr_names[cond]}::resolutions/{size}'"
   ]
  },
  {
   "cell_type": "code",
   "execution_count": 7,
   "metadata": {},
   "outputs": [],
   "source": [
    "coolers = {}\n",
    "for cond in conditions:\n",
    "    coolers[cond] = {}\n",
    "    for size in binsizes:\n",
    "        coolers[cond][size] = cooler.Cooler(clrPaths[cond][size])"
   ]
  },
  {
   "cell_type": "code",
   "execution_count": 8,
   "metadata": {},
   "outputs": [],
   "source": [
    "# Use bioframe to fetch the genomic features from the UCSC.\n",
    "hg38_chromsizes = bioframe.fetch_chromsizes('hg38', as_bed=True)\n",
    "hg38_cens = bioframe.fetch_centromeres('hg38')\n",
    "hg38_arms = bioframe.split(hg38_chromsizes, hg38_cens, cols_points=['chrom', 'mid'])\n",
    "# Select only chromosomes that are present in the cooler.\n",
    "hg38_chromsizes = hg38_chromsizes.set_index(\"chrom\").loc[coolers['4DN_HeLaS3'][5000].chromnames].reset_index()\n",
    "hg38_arms = hg38_arms.set_index(\"chrom\").loc[coolers['4DN_HeLaS3'][5000].chromnames].reset_index()\n",
    "hg38_arms = bioframe.parse_regions(hg38_arms)"
   ]
  },
  {
   "cell_type": "code",
   "execution_count": 9,
   "metadata": {},
   "outputs": [
    {
     "data": {
      "text/html": [
       "<div>\n",
       "<style scoped>\n",
       "    .dataframe tbody tr th:only-of-type {\n",
       "        vertical-align: middle;\n",
       "    }\n",
       "\n",
       "    .dataframe tbody tr th {\n",
       "        vertical-align: top;\n",
       "    }\n",
       "\n",
       "    .dataframe thead th {\n",
       "        text-align: right;\n",
       "    }\n",
       "</style>\n",
       "<table border=\"1\" class=\"dataframe\">\n",
       "  <thead>\n",
       "    <tr style=\"text-align: right;\">\n",
       "      <th></th>\n",
       "      <th>chrom</th>\n",
       "      <th>start</th>\n",
       "      <th>end</th>\n",
       "      <th>name</th>\n",
       "    </tr>\n",
       "  </thead>\n",
       "  <tbody>\n",
       "    <tr>\n",
       "      <th>43</th>\n",
       "      <td>chr22</td>\n",
       "      <td>14004553</td>\n",
       "      <td>50818468</td>\n",
       "      <td>chr22:14004553-50818468</td>\n",
       "    </tr>\n",
       "    <tr>\n",
       "      <th>44</th>\n",
       "      <td>chrX</td>\n",
       "      <td>0</td>\n",
       "      <td>60509060</td>\n",
       "      <td>chrX:0-60509060</td>\n",
       "    </tr>\n",
       "    <tr>\n",
       "      <th>45</th>\n",
       "      <td>chrX</td>\n",
       "      <td>60509060</td>\n",
       "      <td>156040895</td>\n",
       "      <td>chrX:60509060-156040895</td>\n",
       "    </tr>\n",
       "    <tr>\n",
       "      <th>46</th>\n",
       "      <td>chrY</td>\n",
       "      <td>0</td>\n",
       "      <td>10430491</td>\n",
       "      <td>chrY:0-10430491</td>\n",
       "    </tr>\n",
       "    <tr>\n",
       "      <th>47</th>\n",
       "      <td>chrY</td>\n",
       "      <td>10430491</td>\n",
       "      <td>57227415</td>\n",
       "      <td>chrY:10430491-57227415</td>\n",
       "    </tr>\n",
       "  </tbody>\n",
       "</table>\n",
       "</div>"
      ],
      "text/plain": [
       "    chrom     start        end                     name\n",
       "43  chr22  14004553   50818468  chr22:14004553-50818468\n",
       "44   chrX         0   60509060          chrX:0-60509060\n",
       "45   chrX  60509060  156040895  chrX:60509060-156040895\n",
       "46   chrY         0   10430491          chrY:0-10430491\n",
       "47   chrY  10430491   57227415   chrY:10430491-57227415"
      ]
     },
     "execution_count": 9,
     "metadata": {},
     "output_type": "execute_result"
    }
   ],
   "source": [
    "hg38_arms.tail()"
   ]
  },
  {
   "cell_type": "code",
   "execution_count": 43,
   "metadata": {},
   "outputs": [],
   "source": [
    "pd.DataFrame(hg38_arms).to_csv(f'{dataDir}/data/hg38_arms.bed', sep = '\\t', index = False, header = False)"
   ]
  },
  {
   "cell_type": "code",
   "execution_count": 44,
   "metadata": {},
   "outputs": [
    {
     "name": "stdout",
     "output_type": "stream",
     "text": [
      "0.4.0\n"
     ]
    }
   ],
   "source": [
    "print(cooltools.__version__)"
   ]
  },
  {
   "cell_type": "code",
   "execution_count": 45,
   "metadata": {},
   "outputs": [
    {
     "name": "stdout",
     "output_type": "stream",
     "text": [
      "Usage: cooltools [OPTIONS] COMMAND [ARGS]...\r\n",
      "\r\n",
      "  Type -h or --help after any subcommand for more information.\r\n",
      "\r\n",
      "Options:\r\n",
      "  -v, --verbose  Verbose logging\r\n",
      "  -d, --debug    Post mortem debugging\r\n",
      "  -V, --version  Show the version and exit.\r\n",
      "  -h, --help     Show this message and exit.\r\n",
      "\r\n",
      "Commands:\r\n",
      "  call-compartments   Perform eigen value decomposition on a cooler...\r\n",
      "  call-dots           Call dots on a Hi-C heatmap that are not larger...\r\n",
      "  compute-expected    Calculate expected Hi-C signal either for cis or...\r\n",
      "  compute-saddle      Calculate saddle statistics and generate saddle...\r\n",
      "  diamond-insulation  Calculate the diamond insulation scores and call...\r\n",
      "  dump-cworld         Convert a cooler or a group of coolers into the...\r\n",
      "  genome              Utilities for binned genome assemblies.\r\n",
      "  logbin-expected     Logarithmically bin expected values generated using...\r\n",
      "  random-sample       Pick a random sample of contacts from a Hi-C map,...\r\n"
     ]
    }
   ],
   "source": [
    "!cooltools -h"
   ]
  },
  {
   "cell_type": "code",
   "execution_count": 21,
   "metadata": {},
   "outputs": [
    {
     "name": "stdout",
     "output_type": "stream",
     "text": [
      "INFO: Total memory requested is 64000 MB (8 cores x 8000 MB)\n",
      "WARN: Job does not specify node OS version.  Setting 'bsub -R \"select[rh=6]\"'\n",
      "Job <2006600> is submitted to queue <short>.\n",
      "INFO: Total memory requested is 64000 MB (8 cores x 8000 MB)\n",
      "WARN: Job does not specify node OS version.  Setting 'bsub -R \"select[rh=6]\"'\n",
      "Job <2006601> is submitted to queue <short>.\n",
      "INFO: Total memory requested is 64000 MB (8 cores x 8000 MB)\n",
      "WARN: Job does not specify node OS version.  Setting 'bsub -R \"select[rh=6]\"'\n",
      "Job <2006602> is submitted to queue <short>.\n",
      "INFO: Total memory requested is 64000 MB (8 cores x 8000 MB)\n",
      "WARN: Job does not specify node OS version.  Setting 'bsub -R \"select[rh=6]\"'\n",
      "Job <2006603> is submitted to queue <short>.\n"
     ]
    }
   ],
   "source": [
    "for cond in conditions:\n",
    "    for size in binsizes:\n",
    "        in_fname = clrPaths[cond][size]\n",
    "        region_fname = f'{dataDir}/data/hg38_arms.bed'\n",
    "        out_fname = f'{dataDir}/data/{cond}.{size//1000}kb.mapq30.expected.cis.cli.tsv'\n",
    "        !bsub -q short -W 01:00 -e /home/eh37w/lsf_jobs/LSB_%J.err -o /home/eh37w/lsf_jobs/LSB_%J.log \\\n",
    "            -n 8 -R span[hosts=1] -R select[ib] -R rusage[mem=8000] -N -u erica.hildebrand@umassmed.edu \\\n",
    "            \"cooltools compute-expected -p 8 -o $out_fname -t cis --balance --ignore-diags 2 $in_fname --regions $region_fname\"\n"
   ]
  },
  {
   "cell_type": "code",
   "execution_count": 10,
   "metadata": {},
   "outputs": [],
   "source": [
    "expectedPaths = {}\n",
    "for cond in conditions:\n",
    "    expectedPaths[cond] = {}\n",
    "    for size in binsizes:\n",
    "        expectedPaths[cond][size] = f'{dataDir}/data/{cond}.{size//1000}kb.mapq30.expected.cis.cli.tsv'"
   ]
  },
  {
   "cell_type": "code",
   "execution_count": 48,
   "metadata": {},
   "outputs": [
    {
     "name": "stdout",
     "output_type": "stream",
     "text": [
      "INFO: Total memory requested is 64000 MB (8 cores x 8000 MB)\n",
      "WARN: Job does not specify node OS version.  Setting 'bsub -R \"select[rh=6]\"'\n",
      "Job <2006861> is submitted to queue <short>.\n",
      "INFO: Total memory requested is 64000 MB (8 cores x 8000 MB)\n",
      "WARN: Job does not specify node OS version.  Setting 'bsub -R \"select[rh=6]\"'\n",
      "Job <2006862> is submitted to queue <short>.\n",
      "INFO: Total memory requested is 64000 MB (8 cores x 8000 MB)\n",
      "WARN: Job does not specify node OS version.  Setting 'bsub -R \"select[rh=6]\"'\n",
      "Job <2006863> is submitted to queue <short>.\n",
      "INFO: Total memory requested is 64000 MB (8 cores x 8000 MB)\n",
      "WARN: Job does not specify node OS version.  Setting 'bsub -R \"select[rh=6]\"'\n",
      "Job <2006864> is submitted to queue <short>.\n"
     ]
    }
   ],
   "source": [
    "#Call dots on each condition, on each binsize, default settings\n",
    "for cond in conditions:\n",
    "    for size in binsizes:\n",
    "        out_fname = f'{dataDir}/data/{cond}_{size//1000}kbbins_dots.txt'\n",
    "        expectedPath = expectedPaths[cond][size]\n",
    "        coolerPath = clrPaths[cond][size]\n",
    "        region_fname = f'{dataDir}/data/hg38_arms.bed'\n",
    "        !bsub -q short -W 04:00 -e /home/eh37w/lsf_jobs/LSB_%J.err -o /home/eh37w/lsf_jobs/LSB_%J.log \\\n",
    "            -n 8 -R span[hosts=1] -R select[ib] -R rusage[mem=8000] -N -u erica.hildebrand@umassmed.edu \\\n",
    "            \"cooltools call-dots --nproc 8 -o $out_fname --regions $region_fname $coolerPath $expectedPath\""
   ]
  },
  {
   "cell_type": "code",
   "execution_count": null,
   "metadata": {},
   "outputs": [],
   "source": [
    "#Combine the different binsize called dots for each condition into one list, only \n",
    "#keep location of smallest binsize called dot."
   ]
  },
  {
   "cell_type": "code",
   "execution_count": 14,
   "metadata": {},
   "outputs": [
    {
     "name": "stdout",
     "output_type": "stream",
     "text": [
      "Job <2010322> is submitted to queue <short>.\n",
      "Job <2010323> is submitted to queue <short>.\n"
     ]
    }
   ],
   "source": [
    "for cond in conditions:\n",
    "    loops_5kb = f'{dataDir}/data/{cond}_{5000//1000}kbbins_dots.txt.postproc.bedpe'\n",
    "    loops_10kb = f'{dataDir}/data/{cond}_{10000//1000}kbbins_dots.txt.postproc.bedpe'\n",
    "    outputname = f'{dataDir}/data/{cond}_merged5and10kbbins_dots.txt.postproc.bedpe'\n",
    "    !bsub -q short -W 01:00 -e /home/eh37w/lsf_jobs/LSB_%J.err -o /home/eh37w/lsf_jobs/LSB_%J.log -n 1 -R span[hosts=1] -R select[ib] -R rusage[mem=4000] -R select[rh=8] -N -u erica.hildebrand@umassmed.edu \\\n",
    "        \"peaktools merge-dot-lists-kdtree --verbose --output $outputname $loops_5kb $loops_10kb\""
   ]
  },
  {
   "cell_type": "code",
   "execution_count": null,
   "metadata": {},
   "outputs": [],
   "source": []
  }
 ],
 "metadata": {
  "kernelspec": {
   "display_name": "Python [conda env:cooltools_read_norm_env]",
   "language": "python",
   "name": "conda-env-cooltools_read_norm_env-py"
  },
  "language_info": {
   "codemirror_mode": {
    "name": "ipython",
    "version": 3
   },
   "file_extension": ".py",
   "mimetype": "text/x-python",
   "name": "python",
   "nbconvert_exporter": "python",
   "pygments_lexer": "ipython3",
   "version": "3.7.10"
  }
 },
 "nbformat": 4,
 "nbformat_minor": 4
}
