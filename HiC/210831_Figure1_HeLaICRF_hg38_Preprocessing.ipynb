{
 "cells": [
  {
   "cell_type": "code",
   "execution_count": 1,
   "metadata": {},
   "outputs": [],
   "source": [
    "# https://cooltools.readthedocs.io/en/latest/notebooks/viz.html\n",
    "\n",
    "# Import the packages we will use\n",
    "#Utilities\n",
    "import os\n",
    "import re\n",
    "import itertools\n",
    "import glob\n",
    "import pickle\n",
    "import argparse\n",
    "\n",
    "#Data Management\n",
    "import numpy as np\n",
    "from numpy import diff\n",
    "import pandas as pd\n",
    "import h5py\n",
    "import scipy\n",
    "from scipy.stats import linregress\n",
    "from scipy import ndimage\n",
    "from functools import partial\n",
    "from scipy.linalg import toeplitz\n",
    "\n",
    "#Plotting\n",
    "%matplotlib inline\n",
    "import matplotlib as mpl\n",
    "import matplotlib.pyplot as plt\n",
    "from matplotlib import gridspec\n",
    "from matplotlib import cm\n",
    "from matplotlib.gridspec import GridSpec\n",
    "from matplotlib.gridspec import GridSpecFromSubplotSpec\n",
    "import matplotlib.colors as colors\n",
    "from matplotlib.colors import ListedColormap\n",
    "import seaborn as sns\n",
    "import upsetplot\n",
    "from upsetplot import UpSet\n",
    "\n",
    "#Genomics\n",
    "import pairtools\n",
    "import cooler\n",
    "import cooltools\n",
    "import bioframe\n",
    "import cooltools.expected\n",
    "import cooltools.saddle\n",
    "from cooltools import snipping\n",
    "from bioframe import overlap\n",
    "import cooltools.sample"
   ]
  },
  {
   "cell_type": "code",
   "execution_count": 2,
   "metadata": {},
   "outputs": [],
   "source": [
    "#Using new hg38 aligned files, sampling coolers instead of pairs\n",
    "#G1 sorted data only for main figure"
   ]
  },
  {
   "cell_type": "code",
   "execution_count": 3,
   "metadata": {},
   "outputs": [],
   "source": [
    "dataDir = '/nl/umw_job_dekker/users/eh37w/Topo-Inhib/Manuscript_Organized_August2021/distiller_runs/Figure3/results'\n",
    "outDataDir = '/nl/umw_job_dekker/users/eh37w/Topo-Inhib/Manuscript_Organized_August2021/Figure3_HeLa_ICRF_HiC'\n",
    "\n",
    "conditions = [\n",
    "    'AS_DMSO_R1',\n",
    "    'AS_ICRF_R1',\n",
    "    'MR_t4DMSO_R1',\n",
    "    'MR_t4ICRF_R1',\n",
    "    'MR_t8DMSO_R1',\n",
    "    'MR_t8ICRF_R1',\n",
    "    'AS_DMSO_R2',\n",
    "    'AS_ICRF_R2',\n",
    "    'MR_t4DMSO_R2',\n",
    "    'MR_t4ICRF_R2',\n",
    "    'MR_t8DMSO_R2',\n",
    "    'MR_t8ICRF_R2',\n",
    "    'AS_DMSO_R1R2',\n",
    "    'AS_ICRF_R1R2',\n",
    "    'MR_t4DMSO_R1R2',\n",
    "    'MR_t4ICRF_R1R2',\n",
    "    'MR_t8DMSO_R1R2',\n",
    "    'MR_t8ICRF_R1R2'\n",
    "]\n",
    "\n",
    "long_names = {\n",
    "    'AS_DMSO_R1' : 'TI-HiC-Dpn-HeLa-G1Sort-DMSO-2hr-4-29-R1-T1',\n",
    "    'AS_ICRF_R1' : 'TI-HiC-Dpn-HeLa-G1Sort-ICRF-2hr-4-29-R1-T1',\n",
    "    'MR_t4DMSO_R1' : 'TI-HiC-Dpn-HeLa-MitoticRelease-t4hr-DMSO-2hr-G1Sort-4-44-R1-T1',\n",
    "    'MR_t4ICRF_R1' : 'TI-HiC-Dpn-HeLa-MitoticRelease-t4hr-ICRF-2hr-G1Sort-4-44-R1-T1',\n",
    "    'MR_t8DMSO_R1' : 'TI-HiC-Dpn-HeLa-MitoticRelease-t8hr-DMSO-6hr-G1Sort-4-44-R1-T1',\n",
    "    'MR_t8ICRF_R1' : 'TI-HiC-Dpn-HeLa-MitoticRelease-t8hr-ICRF-6hr-G1Sort-4-44-R1-T1',\n",
    "    'AS_DMSO_R2' : 'TI-HiC-Dpn-HeLa-G1Sort-DMSO-2hr-4-48-R2-T1',\n",
    "    'AS_ICRF_R2' : 'TI-HiC-Dpn-HeLa-G1Sort-ICRF-2hr-4-48-R2-T1',\n",
    "    'MR_t4DMSO_R2' : 'TI-HiC-Dpn-HeLa-MitoticRelease-t4hr-DMSO-2hr-G1Sort-4-49-R2-T1',\n",
    "    'MR_t4ICRF_R2' : 'TI-HiC-Dpn-HeLa-MitoticRelease-t4hr-ICRF-2hr-G1Sort-4-49-R2-T1',\n",
    "    'MR_t8DMSO_R2' : 'TI-HiC-Dpn-HeLa-MitoticRelease-t8hr-DMSO-6hr-G1Sort-4-49-R2-T1',\n",
    "    'MR_t8ICRF_R2' : 'TI-HiC-Dpn-HeLa-MitoticRelease-t8hr-ICRF-6hr-G1Sort-4-49-R2-T1',\n",
    "    'AS_DMSO_R1R2' : 'TI-HiC-Dpn-HeLa-G1Sort-DMSO-2hr-R1R2',\n",
    "    'AS_ICRF_R1R2' : 'TI-HiC-Dpn-HeLa-G1Sort-ICRF-2hr-R1R2',\n",
    "    'MR_t4DMSO_R1R2': 'TI-HiC-Dpn-HeLa-MitoticRelease-t4hr-DMSO-2hr-G1Sort-R1R2',\n",
    "    'MR_t4ICRF_R1R2' : 'TI-HiC-Dpn-HeLa-MitoticRelease-t4hr-ICRF-2hr-G1Sort-R1R2',\n",
    "    'MR_t8DMSO_R1R2' : 'TI-HiC-Dpn-HeLa-MitoticRelease-t8hr-DMSO-6hr-G1Sort-R1R2',\n",
    "    'MR_t8ICRF_R1R2' : 'TI-HiC-Dpn-HeLa-MitoticRelease-t8hr-ICRF-6hr-G1Sort-R1R2'\n",
    "}"
   ]
  },
  {
   "cell_type": "code",
   "execution_count": 4,
   "metadata": {},
   "outputs": [],
   "source": [
    "ComboConds = [\n",
    "    'AS_DMSO_R1R2',\n",
    "    'AS_ICRF_R1R2',\n",
    "    'MR_t4DMSO_R1R2',\n",
    "    'MR_t4ICRF_R1R2',\n",
    "    'MR_t8DMSO_R1R2',\n",
    "    'MR_t8ICRF_R1R2',\n",
    "]\n",
    "\n",
    "SepConds = [\n",
    "    'AS_DMSO_R1',\n",
    "    'AS_ICRF_R1',\n",
    "    'MR_t4DMSO_R1',\n",
    "    'MR_t4ICRF_R1',\n",
    "    'MR_t8DMSO_R1',\n",
    "    'MR_t8ICRF_R1',\n",
    "    'AS_DMSO_R2',\n",
    "    'AS_ICRF_R2',\n",
    "    'MR_t4DMSO_R2',\n",
    "    'MR_t4ICRF_R2',\n",
    "    'MR_t8DMSO_R2',\n",
    "    'MR_t8ICRF_R2'\n",
    "]\n",
    "\n",
    "ComboCtrlConds = [\n",
    "    'AS_DMSO_R1R2',\n",
    "    'MR_t4DMSO_R1R2',\n",
    "    'MR_t8DMSO_R1R2'\n",
    "]\n",
    "\n",
    "ComboTreatConds = [\n",
    "    'AS_ICRF_R1R2',\n",
    "    'MR_t4ICRF_R1R2',\n",
    "    'MR_t8ICRF_R1R2'\n",
    "]\n",
    "\n",
    "SepCtrlConds = [\n",
    "    'AS_DMSO_R1',\n",
    "    'MR_t4DMSO_R1',\n",
    "    'MR_t8DMSO_R1',\n",
    "    'AS_DMSO_R2',\n",
    "    'MR_t4DMSO_R2',\n",
    "    'MR_t8DMSO_R2'\n",
    "]\n",
    "\n",
    "SepTreatConds = [\n",
    "    'AS_ICRF_R1',\n",
    "    'MR_t4ICRF_R1',\n",
    "    'MR_t8ICRF_R1',\n",
    "    'AS_ICRF_R2',\n",
    "    'MR_t4ICRF_R2',\n",
    "    'MR_t8ICRF_R2'\n",
    "]"
   ]
  },
  {
   "cell_type": "code",
   "execution_count": 5,
   "metadata": {},
   "outputs": [],
   "source": [
    "#run multiQC on mapped data\n",
    "#cd /nl/umw_job_dekker/users/eh37w/Topo-Inhib/Manuscript_Organized_August2021/Figure3_HeLa_ICRF_HiC/figures\n",
    "#interactive_shell\n",
    "#conda activate multiQC-env\n",
    "#multiqc -m pairtools /nl/umw_job_dekker/users/eh37w/Topo-Inhib/Manuscript_Organized_August2021/distiller_runs/Figure3"
   ]
  },
  {
   "cell_type": "code",
   "execution_count": 6,
   "metadata": {},
   "outputs": [],
   "source": [
    "#coolers - 10kb bins\n",
    "binsize = 10000\n",
    "\n",
    "clr_paths_10kb = {}\n",
    "for cond in SepConds:\n",
    "    clr_paths_10kb[cond] = f'{dataDir}/coolers_library/{long_names[cond]}.hg38.mapq_30.1000.mcool::resolutions/{binsize}'\n",
    "for cond in ComboConds:\n",
    "    clr_paths_10kb[cond] = f'{dataDir}/coolers_library_group/{long_names[cond]}.hg38.mapq_30.1000.mcool::resolutions/{binsize}'\n",
    "    \n",
    "    \n",
    "clrs10kb = {\n",
    "    cond: cooler.Cooler(clr_paths_10kb[cond]) for cond in conditions\n",
    "}"
   ]
  },
  {
   "cell_type": "code",
   "execution_count": 8,
   "metadata": {},
   "outputs": [],
   "source": [
    "# Use bioframe to fetch the genomic features from the UCSC.\n",
    "hg38_chromsizes = bioframe.fetch_chromsizes('hg38', as_bed=True)\n",
    "hg38_cens = bioframe.fetch_centromeres('hg38')\n",
    "hg38_arms = bioframe.split(hg38_chromsizes, hg38_cens, cols_points=['chrom', 'mid'])\n",
    "# Select only chromosomes that are present in the cooler.\n",
    "hg38_chromsizes = hg38_chromsizes.set_index(\"chrom\").loc[clrs10kb['AS_DMSO_R1'].chromnames].reset_index()\n",
    "hg38_arms = hg38_arms.set_index(\"chrom\").loc[clrs10kb['AS_DMSO_R1'].chromnames].reset_index()\n",
    "hg38_arms = bioframe.parse_regions(hg38_arms)"
   ]
  },
  {
   "cell_type": "code",
   "execution_count": 9,
   "metadata": {},
   "outputs": [
    {
     "data": {
      "text/plain": [
       "{'bin-size': 10000,\n",
       " 'bin-type': 'fixed',\n",
       " 'creation-date': '2021-08-30T23:16:26.799393',\n",
       " 'format': 'HDF5::Cooler',\n",
       " 'format-url': 'https://github.com/mirnylab/cooler',\n",
       " 'format-version': 3,\n",
       " 'generated-by': 'cooler-0.8.5',\n",
       " 'genome-assembly': 'unknown',\n",
       " 'metadata': {},\n",
       " 'nbins': 308839,\n",
       " 'nchroms': 25,\n",
       " 'nnz': 12164811,\n",
       " 'storage-mode': 'symmetric-upper',\n",
       " 'sum': 16812306}"
      ]
     },
     "execution_count": 9,
     "metadata": {},
     "output_type": "execute_result"
    }
   ],
   "source": [
    "#read depth?\n",
    "clrs10kb['MR_t8ICRF_R1'].info #Sum should be the same as read # actually used in making cooler\n",
    "#This is the file with the lowest read-depth - sample the rest to this level"
   ]
  },
  {
   "cell_type": "code",
   "execution_count": 10,
   "metadata": {},
   "outputs": [],
   "source": [
    "#Sample for just 1000bp cooler (smallest) - then combine replicates and zoomify\n",
    "sample_binsize = 1000"
   ]
  },
  {
   "cell_type": "code",
   "execution_count": 11,
   "metadata": {},
   "outputs": [],
   "source": [
    "clrPaths = {}\n",
    "for cond in SepConds:\n",
    "    clrPaths[cond] = f'{dataDir}/coolers_library/{long_names[cond]}.hg38.mapq_30.1000.mcool::resolutions/{sample_binsize}'\n"
   ]
  },
  {
   "cell_type": "code",
   "execution_count": 12,
   "metadata": {},
   "outputs": [
    {
     "name": "stdout",
     "output_type": "stream",
     "text": [
      "Job <2010374> is submitted to queue <short>.\n",
      "Job <2010375> is submitted to queue <short>.\n",
      "Job <2010376> is submitted to queue <short>.\n",
      "Job <2010377> is submitted to queue <short>.\n",
      "Job <2010378> is submitted to queue <short>.\n",
      "Job <2010379> is submitted to queue <short>.\n",
      "Job <2010380> is submitted to queue <short>.\n",
      "Job <2010381> is submitted to queue <short>.\n",
      "Job <2010382> is submitted to queue <short>.\n",
      "Job <2010383> is submitted to queue <short>.\n",
      "Job <2010384> is submitted to queue <short>.\n",
      "Job <2010385> is submitted to queue <short>.\n"
     ]
    }
   ],
   "source": [
    "#sample each to approx 16812305\n",
    "for cond in SepConds:\n",
    "    in_fname = clrPaths[cond]\n",
    "    out_fname = f'{outDataDir}/data/{long_names[cond]}.sampled.hg38.mapq_30.1000.cool'\n",
    "    !bsub -q short -W 01:00 -e /home/eh37w/lsf_jobs/LSB_%J.err -o /home/eh37w/lsf_jobs/LSB_%J.log \\\n",
    "        -n 1 -R span[hosts=1] -R select[ib] -R rusage[mem=8000] -R select[rh=8] -N -u erica.hildebrand@umassmed.edu \\\n",
    "        \"cooltools random-sample -c 16812305 $in_fname $out_fname\"\n",
    "\n",
    "#For some reason this command requires the newer linux OS - segmentation fault othewise\n",
    "#also had to be 1 less than sum of smallest cooler - otherwise that one fails"
   ]
  },
  {
   "cell_type": "code",
   "execution_count": 13,
   "metadata": {},
   "outputs": [],
   "source": [
    "sampledPaths = {}\n",
    "for cond in SepConds:\n",
    "    sampledPaths[cond] = f'{outDataDir}/data/{long_names[cond]}.sampled.hg38.mapq_30.1000.cool'\n",
    "for cond in ComboConds:\n",
    "    sampledPaths[cond] = f'{outDataDir}/data/{long_names[cond]}.sampled.hg38.mapq_30.1000.cool'"
   ]
  },
  {
   "cell_type": "code",
   "execution_count": 16,
   "metadata": {},
   "outputs": [],
   "source": [
    "#Merge replicates for combined files\n",
    "for (cond1, cond2, combinedCond) in zip(conditions[0:6], conditions[6:12], ComboConds):\n",
    "    \n",
    "    cond1Sampled = sampledPaths[cond1]\n",
    "    cond2Sampled = sampledPaths[cond2]\n",
    "\n",
    "    combinedfile = sampledPaths[combinedCond]\n",
    "    \n",
    "    cooler.merge_coolers(combinedfile, [cond1Sampled, cond2Sampled], 20000000)\n",
    "    \n",
    "    #would be more efficient to submit a bsub job for each...but not working right now - os issues I think\n",
    "    #!bsub -q short -W 04:00 -e /home/eh37w/lsf_jobs/LSB_%J.err -o /home/eh37w/lsf_jobs/LSB_%J.log \\\n",
    "    #-n 2 -R select[ib] -R span[hosts=1] -R rusage[mem=4000] -R select[rh=8] -N -u erica.hildebrand@umassmed.edu \\\n",
    "    #\"cooler merge $combinedfile $cond1Sampled $cond2Sampled\""
   ]
  },
  {
   "cell_type": "code",
   "execution_count": 5,
   "metadata": {},
   "outputs": [
    {
     "data": {
      "text/plain": [
       "['AS_DMSO_R1',\n",
       " 'AS_ICRF_R1',\n",
       " 'MR_t4DMSO_R1',\n",
       " 'MR_t4ICRF_R1',\n",
       " 'MR_t8DMSO_R1',\n",
       " 'MR_t8ICRF_R1']"
      ]
     },
     "execution_count": 5,
     "metadata": {},
     "output_type": "execute_result"
    }
   ],
   "source": [
    "conditions[0:6]"
   ]
  },
  {
   "cell_type": "code",
   "execution_count": 6,
   "metadata": {},
   "outputs": [
    {
     "data": {
      "text/plain": [
       "['AS_DMSO_R2',\n",
       " 'AS_ICRF_R2',\n",
       " 'MR_t4DMSO_R2',\n",
       " 'MR_t4ICRF_R2',\n",
       " 'MR_t8DMSO_R2',\n",
       " 'MR_t8ICRF_R2']"
      ]
     },
     "execution_count": 6,
     "metadata": {},
     "output_type": "execute_result"
    }
   ],
   "source": [
    "conditions[6:12]"
   ]
  },
  {
   "cell_type": "code",
   "execution_count": 7,
   "metadata": {},
   "outputs": [
    {
     "data": {
      "text/plain": [
       "['AS_DMSO_R1R2',\n",
       " 'AS_ICRF_R1R2',\n",
       " 'MR_t4DMSO_R1R2',\n",
       " 'MR_t4ICRF_R1R2',\n",
       " 'MR_t8DMSO_R1R2',\n",
       " 'MR_t8ICRF_R1R2']"
      ]
     },
     "execution_count": 7,
     "metadata": {},
     "output_type": "execute_result"
    }
   ],
   "source": [
    "ComboConds"
   ]
  },
  {
   "cell_type": "code",
   "execution_count": 17,
   "metadata": {},
   "outputs": [
    {
     "name": "stdout",
     "output_type": "stream",
     "text": [
      "Job <2011322> is submitted to queue <short>.\n",
      "Job <2011323> is submitted to queue <short>.\n",
      "Job <2011324> is submitted to queue <short>.\n",
      "Job <2011325> is submitted to queue <short>.\n",
      "Job <2011326> is submitted to queue <short>.\n",
      "Job <2011327> is submitted to queue <short>.\n",
      "Job <2011328> is submitted to queue <short>.\n",
      "Job <2011329> is submitted to queue <short>.\n",
      "Job <2011330> is submitted to queue <short>.\n",
      "Job <2011331> is submitted to queue <short>.\n",
      "Job <2011332> is submitted to queue <short>.\n",
      "Job <2011333> is submitted to queue <short>.\n",
      "Job <2011334> is submitted to queue <short>.\n",
      "Job <2011335> is submitted to queue <short>.\n",
      "Job <2011336> is submitted to queue <short>.\n",
      "Job <2011337> is submitted to queue <short>.\n",
      "Job <2011338> is submitted to queue <short>.\n",
      "Job <2011339> is submitted to queue <short>.\n"
     ]
    }
   ],
   "source": [
    "#Zoomify and balance sampled cooler files\n",
    "for cond in conditions:\n",
    "    coolfile = sampledPaths[cond]\n",
    "    mcoolfile = f'{outDataDir}/data/{long_names[cond]}.sampled.hg38.mapq_30.1000.mcool'\n",
    "    !bsub -q short -W 04:00 -e /home/eh37w/lsf_jobs/LSB_%J.err -o /home/eh37w/lsf_jobs/LSB_%J.log \\\n",
    "        -n 8 -R select[ib] -R span[hosts=1] -R rusage[mem=4000] -R select[rh=8] -N -u erica.hildebrand@umassmed.edu \\\n",
    "        \"cooler zoomify -p 8 --balance --resolutions 4DN $coolfile -o $mcoolfile\""
   ]
  },
  {
   "cell_type": "code",
   "execution_count": null,
   "metadata": {},
   "outputs": [],
   "source": []
  }
 ],
 "metadata": {
  "kernelspec": {
   "display_name": "Python [conda env:cooltools-Aug2021-env]",
   "language": "python",
   "name": "conda-env-cooltools-Aug2021-env-py"
  },
  "language_info": {
   "codemirror_mode": {
    "name": "ipython",
    "version": 3
   },
   "file_extension": ".py",
   "mimetype": "text/x-python",
   "name": "python",
   "nbconvert_exporter": "python",
   "pygments_lexer": "ipython3",
   "version": "3.7.10"
  }
 },
 "nbformat": 4,
 "nbformat_minor": 4
}
