{
 "cells": [
  {
   "cell_type": "code",
   "execution_count": null,
   "metadata": {},
   "outputs": [],
   "source": [
    "#Use conda env open2c_env.yml to create conda env for this script\n",
    "\n",
    "#This is an example script of read normalization between samples for Hi-C datasets. \n",
    "#It is run from within the 'scripts' subdirectory, using following directory structure:\n",
    "#Analysis_Dir\n",
    "#├── data\n",
    "#├── figures\n",
    "#├── scripts\n",
    "#├── lsf_jobs\n"
   ]
  },
  {
   "cell_type": "code",
   "execution_count": null,
   "metadata": {},
   "outputs": [],
   "source": [
    "#Very useful examples of cooltools analysis and docs: https://cooltools.readthedocs.io/en/latest/notebooks/viz.html\n",
    "\n",
    "# Import the packages we will use\n",
    "#Utilities\n",
    "import os\n",
    "import re\n",
    "import itertools\n",
    "import glob\n",
    "import pickle\n",
    "import argparse\n",
    "\n",
    "#Data Management\n",
    "import numpy as np\n",
    "from numpy import diff\n",
    "import pandas as pd\n",
    "import h5py\n",
    "import scipy\n",
    "from scipy.stats import linregress\n",
    "from scipy import ndimage\n",
    "from functools import partial\n",
    "from scipy.linalg import toeplitz\n",
    "\n",
    "#Plotting\n",
    "%matplotlib inline\n",
    "import matplotlib as mpl\n",
    "import matplotlib.pyplot as plt\n",
    "from matplotlib import gridspec\n",
    "from matplotlib import cm\n",
    "from matplotlib.gridspec import GridSpec\n",
    "from matplotlib.gridspec import GridSpecFromSubplotSpec\n",
    "import matplotlib.colors as colors\n",
    "from matplotlib.colors import ListedColormap\n",
    "import seaborn as sns\n",
    "import upsetplot\n",
    "from upsetplot import UpSet\n",
    "\n",
    "#Genomics\n",
    "import pairtools\n",
    "import cooler\n",
    "import cooltools\n",
    "import bioframe\n",
    "from bioframe import overlap"
   ]
  },
  {
   "cell_type": "code",
   "execution_count": null,
   "metadata": {},
   "outputs": [],
   "source": [
    "#Using hg38 aligned files, sampling coolers to same number of interactions between samples/replicates"
   ]
  },
  {
   "cell_type": "code",
   "execution_count": null,
   "metadata": {},
   "outputs": [],
   "source": [
    "#Set up the sample names/files/directories needed\n",
    "\n",
    "dataDir = #'dir/to/mapped/mcools'\n",
    "outDataDir = '..'\n",
    "\n",
    "conditions = [\n",
    "    'AS_DMSO_R1',\n",
    "    'AS_ICRF_R1',\n",
    "    'MR_t4DMSO_R1',\n",
    "    'MR_t4ICRF_R1',\n",
    "    'MR_t8DMSO_R1',\n",
    "    'MR_t8ICRF_R1',\n",
    "    'AS_DMSO_R2',\n",
    "    'AS_ICRF_R2',\n",
    "    'MR_t4DMSO_R2',\n",
    "    'MR_t4ICRF_R2',\n",
    "    'MR_t8DMSO_R2',\n",
    "    'MR_t8ICRF_R2',\n",
    "    'AS_DMSO_R1R2',\n",
    "    'AS_ICRF_R1R2',\n",
    "    'MR_t4DMSO_R1R2',\n",
    "    'MR_t4ICRF_R1R2',\n",
    "    'MR_t8DMSO_R1R2',\n",
    "    'MR_t8ICRF_R1R2'\n",
    "]\n",
    "\n",
    "long_names = {\n",
    "    'AS_DMSO_R1' : 'TI-HiC-Dpn-HeLa-G1Sort-DMSO-2hr-4-29-R1-T1',\n",
    "    'AS_ICRF_R1' : 'TI-HiC-Dpn-HeLa-G1Sort-ICRF-2hr-4-29-R1-T1',\n",
    "    'MR_t4DMSO_R1' : 'TI-HiC-Dpn-HeLa-MitoticRelease-t4hr-DMSO-2hr-G1Sort-4-44-R1-T1',\n",
    "    'MR_t4ICRF_R1' : 'TI-HiC-Dpn-HeLa-MitoticRelease-t4hr-ICRF-2hr-G1Sort-4-44-R1-T1',\n",
    "    'MR_t8DMSO_R1' : 'TI-HiC-Dpn-HeLa-MitoticRelease-t8hr-DMSO-6hr-G1Sort-4-44-R1-T1',\n",
    "    'MR_t8ICRF_R1' : 'TI-HiC-Dpn-HeLa-MitoticRelease-t8hr-ICRF-6hr-G1Sort-4-44-R1-T1',\n",
    "    'AS_DMSO_R2' : 'TI-HiC-Dpn-HeLa-G1Sort-DMSO-2hr-4-48-R2-T1',\n",
    "    'AS_ICRF_R2' : 'TI-HiC-Dpn-HeLa-G1Sort-ICRF-2hr-4-48-R2-T1',\n",
    "    'MR_t4DMSO_R2' : 'TI-HiC-Dpn-HeLa-MitoticRelease-t4hr-DMSO-2hr-G1Sort-4-49-R2-T1',\n",
    "    'MR_t4ICRF_R2' : 'TI-HiC-Dpn-HeLa-MitoticRelease-t4hr-ICRF-2hr-G1Sort-4-49-R2-T1',\n",
    "    'MR_t8DMSO_R2' : 'TI-HiC-Dpn-HeLa-MitoticRelease-t8hr-DMSO-6hr-G1Sort-4-49-R2-T1',\n",
    "    'MR_t8ICRF_R2' : 'TI-HiC-Dpn-HeLa-MitoticRelease-t8hr-ICRF-6hr-G1Sort-4-49-R2-T1',\n",
    "    'AS_DMSO_R1R2' : 'TI-HiC-Dpn-HeLa-G1Sort-DMSO-2hr-R1R2',\n",
    "    'AS_ICRF_R1R2' : 'TI-HiC-Dpn-HeLa-G1Sort-ICRF-2hr-R1R2',\n",
    "    'MR_t4DMSO_R1R2': 'TI-HiC-Dpn-HeLa-MitoticRelease-t4hr-DMSO-2hr-G1Sort-R1R2',\n",
    "    'MR_t4ICRF_R1R2' : 'TI-HiC-Dpn-HeLa-MitoticRelease-t4hr-ICRF-2hr-G1Sort-R1R2',\n",
    "    'MR_t8DMSO_R1R2' : 'TI-HiC-Dpn-HeLa-MitoticRelease-t8hr-DMSO-6hr-G1Sort-R1R2',\n",
    "    'MR_t8ICRF_R1R2' : 'TI-HiC-Dpn-HeLa-MitoticRelease-t8hr-ICRF-6hr-G1Sort-R1R2'\n",
    "}"
   ]
  },
  {
   "cell_type": "code",
   "execution_count": null,
   "metadata": {},
   "outputs": [],
   "source": [
    "ComboConds = [\n",
    "    'AS_DMSO_R1R2',\n",
    "    'AS_ICRF_R1R2',\n",
    "    'MR_t4DMSO_R1R2',\n",
    "    'MR_t4ICRF_R1R2',\n",
    "    'MR_t8DMSO_R1R2',\n",
    "    'MR_t8ICRF_R1R2',\n",
    "]\n",
    "\n",
    "SepConds = [\n",
    "    'AS_DMSO_R1',\n",
    "    'AS_ICRF_R1',\n",
    "    'MR_t4DMSO_R1',\n",
    "    'MR_t4ICRF_R1',\n",
    "    'MR_t8DMSO_R1',\n",
    "    'MR_t8ICRF_R1',\n",
    "    'AS_DMSO_R2',\n",
    "    'AS_ICRF_R2',\n",
    "    'MR_t4DMSO_R2',\n",
    "    'MR_t4ICRF_R2',\n",
    "    'MR_t8DMSO_R2',\n",
    "    'MR_t8ICRF_R2'\n",
    "]\n",
    "\n",
    "ComboCtrlConds = [\n",
    "    'AS_DMSO_R1R2',\n",
    "    'MR_t4DMSO_R1R2',\n",
    "    'MR_t8DMSO_R1R2'\n",
    "]\n",
    "\n",
    "ComboTreatConds = [\n",
    "    'AS_ICRF_R1R2',\n",
    "    'MR_t4ICRF_R1R2',\n",
    "    'MR_t8ICRF_R1R2'\n",
    "]\n",
    "\n",
    "SepCtrlConds = [\n",
    "    'AS_DMSO_R1',\n",
    "    'MR_t4DMSO_R1',\n",
    "    'MR_t8DMSO_R1',\n",
    "    'AS_DMSO_R2',\n",
    "    'MR_t4DMSO_R2',\n",
    "    'MR_t8DMSO_R2'\n",
    "]\n",
    "\n",
    "SepTreatConds = [\n",
    "    'AS_ICRF_R1',\n",
    "    'MR_t4ICRF_R1',\n",
    "    'MR_t8ICRF_R1',\n",
    "    'AS_ICRF_R2',\n",
    "    'MR_t4ICRF_R2',\n",
    "    'MR_t8ICRF_R2'\n",
    "]"
   ]
  },
  {
   "cell_type": "code",
   "execution_count": null,
   "metadata": {},
   "outputs": [],
   "source": [
    "#In shell, run multiQC on mapped data to discern the lowest read number in this set of samples\n",
    "#conda activate multiQC-env\n",
    "#multiqc -m pairtools #add_directory_to_distiller_results_here"
   ]
  },
  {
   "cell_type": "code",
   "execution_count": null,
   "metadata": {},
   "outputs": [],
   "source": [
    "#Read in coolers - 10kb bins\n",
    "binsize = 10000\n",
    "\n",
    "clr_paths_10kb = {}\n",
    "for cond in SepConds:\n",
    "    clr_paths_10kb[cond] = f'{dataDir}/coolers_library/{long_names[cond]}.hg38.mapq_30.1000.mcool::resolutions/{binsize}'\n",
    "for cond in ComboConds:\n",
    "    clr_paths_10kb[cond] = f'{dataDir}/coolers_library_group/{long_names[cond]}.hg38.mapq_30.1000.mcool::resolutions/{binsize}'\n",
    "    \n",
    "    \n",
    "clrs10kb = {\n",
    "    cond: cooler.Cooler(clr_paths_10kb[cond]) for cond in conditions\n",
    "}"
   ]
  },
  {
   "cell_type": "code",
   "execution_count": null,
   "metadata": {},
   "outputs": [],
   "source": [
    "# Use bioframe to fetch the genomic features from the UCSC.\n",
    "hg38_chromsizes = bioframe.fetch_chromsizes('hg38', as_bed=True)\n",
    "hg38_cens = bioframe.fetch_centromeres('hg38')\n",
    "hg38_arms = bioframe.split(hg38_chromsizes, hg38_cens, cols_points=['chrom', 'mid'])\n",
    "# Select only chromosomes that are present in the cooler.\n",
    "hg38_chromsizes = hg38_chromsizes.set_index(\"chrom\").loc[clrs10kb['AS_DMSO_R1'].chromnames].reset_index()\n",
    "hg38_arms = hg38_arms.set_index(\"chrom\").loc[clrs10kb['AS_DMSO_R1'].chromnames].reset_index()\n",
    "hg38_arms = bioframe.parse_regions(hg38_arms)"
   ]
  },
  {
   "cell_type": "code",
   "execution_count": null,
   "metadata": {},
   "outputs": [],
   "source": [
    "print(bioframe.__version__)"
   ]
  },
  {
   "cell_type": "code",
   "execution_count": null,
   "metadata": {},
   "outputs": [],
   "source": [
    "print(cooltools.__version__)"
   ]
  },
  {
   "cell_type": "code",
   "execution_count": null,
   "metadata": {},
   "outputs": [],
   "source": [
    "print(cooler.__version__)"
   ]
  },
  {
   "cell_type": "code",
   "execution_count": null,
   "metadata": {},
   "outputs": [],
   "source": [
    "#calculate read depth?\n",
    "clrs10kb['MR_t8ICRF_R1'].info #Sum is the same as read # actually used in making cooler\n",
    "#This is the file with the lowest read-depth from multiQC analysis above - sample the rest to this level"
   ]
  },
  {
   "cell_type": "code",
   "execution_count": null,
   "metadata": {},
   "outputs": [],
   "source": [
    "#Sample for just 1000bp cooler (smallest) - then combine replicates and zoomify\n",
    "sample_binsize = 1000"
   ]
  },
  {
   "cell_type": "code",
   "execution_count": null,
   "metadata": {},
   "outputs": [],
   "source": [
    "clrPaths = {}\n",
    "for cond in SepConds:\n",
    "    clrPaths[cond] = f'{dataDir}/coolers_library/{long_names[cond]}.hg38.mapq_30.1000.mcool::resolutions/{sample_binsize}'\n"
   ]
  },
  {
   "cell_type": "code",
   "execution_count": null,
   "metadata": {},
   "outputs": [],
   "source": [
    "#sample each to approx 16812305 in this case - has to be one less than the sum of the smallest cooler\n",
    "#We use the bsub job scheduler - this can be modified based on your computing resources\n",
    "\n",
    "for cond in SepConds:\n",
    "    in_fname = clrPaths[cond]\n",
    "    out_fname = f'{outDataDir}/data/{long_names[cond]}.sampled.hg38.mapq_30.1000.cool'\n",
    "    !bsub -q short -W 01:00 -e ../lsf_jobs/LSB_%J.err -o ../lsf_jobs/LSB_%J.log \\\n",
    "        -n 1 -R span[hosts=1] -R select[ib] -R rusage[mem=8000] -R select[rh=8] \\\n",
    "        \"cooltools random-sample -c 16812305 --exact $in_fname $out_fname\"\n"
   ]
  },
  {
   "cell_type": "code",
   "execution_count": null,
   "metadata": {},
   "outputs": [],
   "source": [
    "sampledPaths = {}\n",
    "for cond in SepConds:\n",
    "    sampledPaths[cond] = f'{outDataDir}/data/{long_names[cond]}.sampled.hg38.mapq_30.1000.cool'\n",
    "for cond in ComboConds:\n",
    "    sampledPaths[cond] = f'{outDataDir}/data/{long_names[cond]}.sampled.hg38.mapq_30.1000.cool'"
   ]
  },
  {
   "cell_type": "code",
   "execution_count": null,
   "metadata": {},
   "outputs": [],
   "source": [
    "#Merge replicates for combined files\n",
    "for (cond1, cond2, combinedCond) in zip(conditions[0:6], conditions[6:12], ComboConds):\n",
    "    \n",
    "    cond1Sampled = sampledPaths[cond1]\n",
    "    cond2Sampled = sampledPaths[cond2]\n",
    "\n",
    "    combinedfile = sampledPaths[combinedCond]\n",
    "    \n",
    "    cooler.merge_coolers(combinedfile, [cond1Sampled, cond2Sampled], 20000000)"
   ]
  },
  {
   "cell_type": "code",
   "execution_count": null,
   "metadata": {},
   "outputs": [],
   "source": [
    "conditions[0:6]"
   ]
  },
  {
   "cell_type": "code",
   "execution_count": null,
   "metadata": {},
   "outputs": [],
   "source": [
    "conditions[6:12]"
   ]
  },
  {
   "cell_type": "code",
   "execution_count": null,
   "metadata": {},
   "outputs": [],
   "source": [
    "ComboConds"
   ]
  },
  {
   "cell_type": "code",
   "execution_count": null,
   "metadata": {},
   "outputs": [],
   "source": [
    "#Zoomify and balance sampled cooler files\n",
    "for cond in conditions:\n",
    "    coolfile = sampledPaths[cond]\n",
    "    mcoolfile = f'{outDataDir}/data/{long_names[cond]}.sampled.hg38.mapq_30.1000.mcool'\n",
    "    !bsub -q short -W 01:00 -e ../lsf_jobs/LSB_%J.err -o ../lsf_jobs/LSB_%J.log \\\n",
    "        -n 4 -R select[ib] -R span[hosts=1] -R rusage[mem=4000] -R select[rh=8] \\\n",
    "        \"cooler zoomify -p 4 --balance --resolutions 4DN $coolfile -o $mcoolfile\""
   ]
  },
  {
   "cell_type": "code",
   "execution_count": null,
   "metadata": {},
   "outputs": [],
   "source": [
    "#Please note that the exact interactions included in the sampled cooler files will be slightly different each time\n",
    "#this is run, as they are produced by random sampling. To replicate the published figures, the exact processed \n",
    "#sampled .mcool files used in the published analyses are available on GEO. "
   ]
  }
 ],
 "metadata": {
  "kernelspec": {
   "display_name": "Python [conda env:cooltools-Aug2021-env]",
   "language": "python",
   "name": "conda-env-cooltools-Aug2021-env-py"
  },
  "language_info": {
   "codemirror_mode": {
    "name": "ipython",
    "version": 3
   },
   "file_extension": ".py",
   "mimetype": "text/x-python",
   "name": "python",
   "nbconvert_exporter": "python",
   "pygments_lexer": "ipython3",
   "version": "3.7.10"
  }
 },
 "nbformat": 4,
 "nbformat_minor": 4
}
