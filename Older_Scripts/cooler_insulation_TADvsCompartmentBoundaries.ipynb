{
 "cells": [
  {
   "cell_type": "code",
   "execution_count": 1,
   "metadata": {},
   "outputs": [],
   "source": [
    "%matplotlib inline\n",
    "import matplotlib.pyplot as plt\n",
    "import matplotlib as mpl\n",
    "import seaborn as sns\n",
    "import multiprocess as mp\n",
    "import numpy as np\n",
    "import pandas as pd\n",
    "import bioframe\n",
    "import cooltools\n",
    "import cooler\n",
    "import re\n",
    "import bbi\n",
    "from pybedtools import bedtool #didn't actually use\n",
    "import pybedtools #didn't actually use\n",
    "#new python library - probably need to add to your conda env\n",
    "import pyranges"
   ]
  },
  {
   "cell_type": "code",
   "execution_count": 2,
   "metadata": {},
   "outputs": [
    {
     "data": {
      "text/plain": [
       "<function pyranges.pyranges.PyRanges.intersect(self, other, **kwargs)>"
      ]
     },
     "execution_count": 2,
     "metadata": {},
     "output_type": "execute_result"
    }
   ],
   "source": [
    "pyranges.PyRanges.intersect"
   ]
  },
  {
   "cell_type": "code",
   "execution_count": 3,
   "metadata": {},
   "outputs": [],
   "source": [
    "hg19 = bioframe.fetch_chromsizes('hg19')\n",
    "chromsizes = bioframe.fetch_chromsizes('hg19')\n",
    "chromosomes = list(chromsizes.index)"
   ]
  },
  {
   "cell_type": "code",
   "execution_count": 4,
   "metadata": {},
   "outputs": [],
   "source": [
    "compDataDir = \"/nl/umw_job_dekker/users/eh37w/Topo-Inhib/compartments_cooler\"\n",
    "boundaryDir = '/nl/umw_job_dekker/users/eh37w/Topo-Inhib/insulation_cooler/data'\n",
    "\n",
    "conditions = [\n",
    "    'Async_R1',\n",
    "    'Async_R2'\n",
    "]\n",
    "\n",
    "binsize_ins = 40000\n",
    "binsize_comp = 200000\n",
    "\n",
    "long_names = {    \n",
    "    'Async_R1' : 'TI-HiC-Dpn-HeLa-Async-Ctrl-1-30-R1-T1',\n",
    "    'Async_R2': 'TI-HiC-Dpn-HeLa-Async-Ctrl-1-36-R2-T1'\n",
    "}\n"
   ]
  },
  {
   "cell_type": "code",
   "execution_count": 5,
   "metadata": {},
   "outputs": [],
   "source": [
    "#called boundaries from cooler insulation - Async combined\n",
    "window_bp = 480000\n",
    "\n",
    "AsyncBounds = pd.read_csv('{}/Async_R1R2Consensus_TADBoundaries.{}kb.peaks_{}.tsv'.format(boundaryDir, binsize_ins//1000, window_bp), sep = '\\t')"
   ]
  },
  {
   "cell_type": "code",
   "execution_count": 6,
   "metadata": {},
   "outputs": [],
   "source": [
    "#called boundaries from cooler compartments (with gene density) - Async\n",
    "eigs = {}\n",
    "for cond in conditions:\n",
    "    eigs[cond] = pd.read_csv('{}/data/{}.{}kb.gd.eigs.cis.vecs.txt'.format(compDataDir, long_names[cond], binsize_comp//1000), sep='\\t')"
   ]
  },
  {
   "cell_type": "code",
   "execution_count": 7,
   "metadata": {},
   "outputs": [],
   "source": [
    "#calling A vs B compartments in each sample\n",
    "eigsA = {}\n",
    "for cond in conditions:\n",
    "    eigsA[cond] = eigs[cond][eigs[cond]['E1'] > 0]\n",
    "    \n",
    "eigsB = {}\n",
    "for cond in conditions:\n",
    "    eigsB[cond] = eigs[cond][eigs[cond]['E1'] < 0]"
   ]
  },
  {
   "cell_type": "code",
   "execution_count": 40,
   "metadata": {},
   "outputs": [],
   "source": [
    "#calling compartment boundaries in each sample\n",
    "#Calculate which bins flank sign changes - by chromosome?\n",
    "\n",
    "compBounds = {}\n",
    "signsAll = {}\n",
    "\n",
    "for cond in conditions:    \n",
    "    signsAll[cond] = pd.DataFrame(data = {\n",
    "        'Chrom1' : eigs[cond]['chrom'][0:-1].reset_index(drop = True),\n",
    "        'Bin1Start' : eigs[cond]['start'][0:-1].reset_index(drop = True),\n",
    "        'Bin1End' : eigs[cond]['end'][0:-1].reset_index(drop = True),\n",
    "        'Bin1E1' : eigs[cond]['E1'][0:-1].reset_index(drop = True),\n",
    "        'Chrom2' : eigs[cond]['chrom'][1:].reset_index(drop = True),\n",
    "        'Bin2Start' : eigs[cond]['start'][1:].reset_index(drop = True),\n",
    "        'Bin2End' : eigs[cond]['end'][1:].reset_index(drop = True),  \n",
    "        'Bin2E1' : eigs[cond]['E1'][1:].reset_index(drop = True),\n",
    "        'sign' : (eigs[cond]['E1'][0:-1].reset_index(drop = True) * eigs[cond]['E1'][1:].reset_index(drop = True))\n",
    "        })\n",
    "    signsAll[cond].apply(pd.to_numeric, errors='ignore')\n",
    "    signsAll[cond] = signsAll[cond].astype({\"Bin1Start\": int, \"Bin1End\": int, \"Bin2Start\": int, \"Bin2End\": int})\n",
    "\n",
    "    compBounds[cond] = signsAll[cond][(signsAll[cond]['sign'] < 0) &\n",
    "                                      (signsAll[cond]['Chrom1'] == signsAll[cond]['Chrom2']) \n",
    "                                     ]"
   ]
  },
  {
   "cell_type": "code",
   "execution_count": 55,
   "metadata": {},
   "outputs": [],
   "source": [
    "compBoundsRanges = {}\n",
    "for cond in conditions:\n",
    "    compBoundsRanges[cond] = pd.DataFrame(data = {\n",
    "        'Chromosome' : compBounds[cond].Chrom1,\n",
    "        'Start' : compBounds[cond].Bin1Start,\n",
    "        'End' : compBounds[cond].Bin2End,\n",
    "        'Name' : '.',\n",
    "        'Score' : compBounds[cond].sign,\n",
    "        'Strand' : '+'\n",
    "    })"
   ]
  },
  {
   "cell_type": "code",
   "execution_count": 56,
   "metadata": {},
   "outputs": [],
   "source": [
    "#Merge R1 and R2 compartment boundaries - union and intersect, since want all potential compartment boundaries, \n",
    "#and want all TAD only boundaries\n",
    "cbPyRanges = {}\n",
    "for cond in conditions:\n",
    "        cbPyRanges[cond] = pyranges.PyRanges(\n",
    "            compBoundsRanges[cond]\n",
    "        )"
   ]
  },
  {
   "cell_type": "code",
   "execution_count": 57,
   "metadata": {},
   "outputs": [
    {
     "data": {
      "text/plain": [
       "+--------------+-----------+-----------+------------+------------------------+----------+\n",
       "| Chromosome   | Start     | End       | Name       | Score                  | Strand   |\n",
       "| (int8)       | (int32)   | (int32)   | (object)   | (float64)              | (int8)   |\n",
       "|--------------+-----------+-----------+------------+------------------------+----------|\n",
       "| chr1         | 5800000   | 6200000   | .          | -0.15167043751209502   | +        |\n",
       "| chr1         | 12200000  | 12600000  | .          | -0.004674341648969561  | +        |\n",
       "| chr1         | 15400000  | 15800000  | .          | -0.0019638650922139773 | +        |\n",
       "| ...          | ...       | ...       | ...        | ...                    | ...      |\n",
       "| chrX         | 146600000 | 147000000 | .          | -0.05526781380954693   | +        |\n",
       "| chrX         | 146800000 | 147200000 | .          | -0.03971167319250798   | +        |\n",
       "| chrX         | 148200000 | 148600000 | .          | -0.007573588529989534  | +        |\n",
       "+--------------+-----------+-----------+------------+------------------------+----------+\n",
       "PyRanges object has 1720 sequences from 23 chromosomes."
      ]
     },
     "execution_count": 57,
     "metadata": {},
     "output_type": "execute_result"
    }
   ],
   "source": [
    "cbPyRanges['Async_R1']"
   ]
  },
  {
   "cell_type": "code",
   "execution_count": 58,
   "metadata": {},
   "outputs": [
    {
     "data": {
      "text/plain": [
       "+--------------+-----------+-----------+------------+-----------------------+----------+\n",
       "| Chromosome   | Start     | End       | Name       | Score                 | Strand   |\n",
       "| (int8)       | (int32)   | (int32)   | (object)   | (float64)             | (int8)   |\n",
       "|--------------+-----------+-----------+------------+-----------------------+----------|\n",
       "| chr1         | 5800000   | 6200000   | .          | -0.09365252747388518  | +        |\n",
       "| chr1         | 12400000  | 12800000  | .          | -0.026303802271402707 | +        |\n",
       "| chr1         | 15400000  | 15800000  | .          | -0.024962326012173724 | +        |\n",
       "| ...          | ...       | ...       | ...        | ...                   | ...      |\n",
       "| chrX         | 138800000 | 139200000 | .          | -0.04316394980118141  | +        |\n",
       "| chrX         | 142600000 | 143000000 | .          | -0.016177262345875968 | +        |\n",
       "| chrX         | 148200000 | 148600000 | .          | -0.027113844624152998 | +        |\n",
       "+--------------+-----------+-----------+------------+-----------------------+----------+\n",
       "PyRanges object has 1575 sequences from 23 chromosomes."
      ]
     },
     "execution_count": 58,
     "metadata": {},
     "output_type": "execute_result"
    }
   ],
   "source": [
    "cbPyRanges['Async_R2']"
   ]
  },
  {
   "cell_type": "code",
   "execution_count": 59,
   "metadata": {},
   "outputs": [
    {
     "name": "stdout",
     "output_type": "stream",
     "text": [
      "+--------------+-----------+-----------+------------+-----------------------+----------+\n",
      "| Chromosome   | Start     | End       | Name       | Score                 | Strand   |\n",
      "| (int8)       | (int32)   | (int32)   | (object)   | (float64)             | (int8)   |\n",
      "|--------------+-----------+-----------+------------+-----------------------+----------|\n",
      "| chr1         | 59400000  | 59800000  | .          | -0.006143678773713582 | +        |\n",
      "| chr1         | 65400000  | 65800000  | .          | -0.007079082977595713 | +        |\n",
      "| chr1         | 65600000  | 66000000  | .          | -0.01058980936266671  | +        |\n",
      "| ...          | ...       | ...       | ...        | ...                   | ...      |\n",
      "| chrX         | 110800000 | 111200000 | .          | -0.02509479520420424  | +        |\n",
      "| chrX         | 146600000 | 147000000 | .          | -0.05526781380954693  | +        |\n",
      "| chrX         | 146800000 | 147200000 | .          | -0.03971167319250798  | +        |\n",
      "+--------------+-----------+-----------+------------+-----------------------+----------+\n",
      "PyRanges object has 357 sequences from 23 chromosomes.\n"
     ]
    }
   ],
   "source": [
    "x = cbPyRanges['Async_R1'].no_overlap(cbPyRanges['Async_R2'])\n",
    "print(x)"
   ]
  },
  {
   "cell_type": "code",
   "execution_count": 70,
   "metadata": {},
   "outputs": [
    {
     "data": {
      "text/plain": [
       "+--------------+-----------+-----------+------------+------------------------+----------+\n",
       "| Chromosome   | Start     | End       | Name       | Score                  | Strand   |\n",
       "| (int8)       | (int32)   | (int32)   | (object)   | (float64)              | (int8)   |\n",
       "|--------------+-----------+-----------+------------+------------------------+----------|\n",
       "| chr1         | 5800000   | 6200000   | .          | -0.15167043751209502   | +        |\n",
       "| chr1         | 12200000  | 12600000  | .          | -0.004674341648969561  | +        |\n",
       "| chr1         | 15400000  | 15800000  | .          | -0.0019638650922139773 | +        |\n",
       "| ...          | ...       | ...       | ...        | ...                    | ...      |\n",
       "| chrX         | 138800000 | 139200000 | .          | -0.04316394980118141   | +        |\n",
       "| chrX         | 142600000 | 143000000 | .          | -0.016177262345875968  | +        |\n",
       "| chrX         | 148200000 | 148600000 | .          | -0.027113844624152998  | +        |\n",
       "+--------------+-----------+-----------+------------+------------------------+----------+\n",
       "PyRanges object has 3295 sequences from 23 chromosomes."
      ]
     },
     "execution_count": 70,
     "metadata": {},
     "output_type": "execute_result"
    }
   ],
   "source": [
    "cbCat = cbPyRanges['Async_R1'].concat(cbPyRanges['Async_R2'])\n",
    "cbCat"
   ]
  },
  {
   "cell_type": "code",
   "execution_count": 64,
   "metadata": {},
   "outputs": [
    {
     "data": {
      "text/plain": [
       "+--------------+-----------+-----------+------------+------------+----------+\n",
       "| Chromosome   | Start     | End       | Name       | Score      | Strand   |\n",
       "| (int8)       | (int32)   | (int32)   | (object)   | (object)   | (int8)   |\n",
       "|--------------+-----------+-----------+------------+------------+----------|\n",
       "| chr1         | 1000000   | 1040000   | .          | .          | +        |\n",
       "| chr1         | 1280000   | 1320000   | .          | .          | +        |\n",
       "| chr1         | 1400000   | 1440000   | .          | .          | +        |\n",
       "| ...          | ...       | ...       | ...        | ...        | ...      |\n",
       "| chrX         | 154080000 | 154120000 | .          | .          | +        |\n",
       "| chrX         | 154400000 | 154440000 | .          | .          | +        |\n",
       "| chrX         | 154480000 | 154520000 | .          | .          | +        |\n",
       "+--------------+-----------+-----------+------------+------------+----------+\n",
       "PyRanges object has 6974 sequences from 23 chromosomes."
      ]
     },
     "execution_count": 64,
     "metadata": {},
     "output_type": "execute_result"
    }
   ],
   "source": [
    "#Overlap = compartment boundaries\n",
    "#first make PyRanges from AsyncBounds\n",
    "insDF = pd.DataFrame(data = {\n",
    "        'Chromosome' : AsyncBounds.Chromosome,\n",
    "        'Start' : AsyncBounds.Start,\n",
    "        'End' : AsyncBounds.End,\n",
    "        'Name' : '.',\n",
    "        'Score' : '.',\n",
    "        'Strand' : '+'\n",
    "})\n",
    "\n",
    "insRanges = pyranges.PyRanges(\n",
    "            insDF\n",
    ")\n",
    "\n",
    "insRanges"
   ]
  },
  {
   "cell_type": "code",
   "execution_count": 72,
   "metadata": {},
   "outputs": [
    {
     "data": {
      "text/plain": [
       "+--------------+-----------+-----------+------------+------------+----------+\n",
       "| Chromosome   | Start     | End       | Name       | Score      | Strand   |\n",
       "| (int8)       | (int32)   | (int32)   | (object)   | (object)   | (int8)   |\n",
       "|--------------+-----------+-----------+------------+------------+----------|\n",
       "| chr1         | 6040000   | 6080000   | .          | .          | +        |\n",
       "| chr1         | 6040000   | 6080000   | .          | .          | +        |\n",
       "| chr1         | 12280000  | 12320000  | .          | .          | +        |\n",
       "| ...          | ...       | ...       | ...        | ...        | ...      |\n",
       "| chrX         | 148320000 | 148360000 | .          | .          | +        |\n",
       "| chrX         | 148520000 | 148560000 | .          | .          | +        |\n",
       "| chrX         | 148520000 | 148560000 | .          | .          | +        |\n",
       "+--------------+-----------+-----------+------------+------------+----------+\n",
       "PyRanges object has 3372 sequences from 23 chromosomes."
      ]
     },
     "execution_count": 72,
     "metadata": {},
     "output_type": "execute_result"
    }
   ],
   "source": [
    "compInsulationBounds = insRanges.overlap(cbCat)\n",
    "compInsulationBounds"
   ]
  },
  {
   "cell_type": "code",
   "execution_count": 89,
   "metadata": {},
   "outputs": [
    {
     "name": "stdout",
     "output_type": "stream",
     "text": [
      "1893\n"
     ]
    },
    {
     "data": {
      "text/html": [
       "<div>\n",
       "<style scoped>\n",
       "    .dataframe tbody tr th:only-of-type {\n",
       "        vertical-align: middle;\n",
       "    }\n",
       "\n",
       "    .dataframe tbody tr th {\n",
       "        vertical-align: top;\n",
       "    }\n",
       "\n",
       "    .dataframe thead th {\n",
       "        text-align: right;\n",
       "    }\n",
       "</style>\n",
       "<table border=\"1\" class=\"dataframe\">\n",
       "  <thead>\n",
       "    <tr style=\"text-align: right;\">\n",
       "      <th></th>\n",
       "      <th>Chromosome</th>\n",
       "      <th>Start</th>\n",
       "      <th>End</th>\n",
       "      <th>Name</th>\n",
       "      <th>Score</th>\n",
       "      <th>Strand</th>\n",
       "    </tr>\n",
       "  </thead>\n",
       "  <tbody>\n",
       "    <tr>\n",
       "      <th>0</th>\n",
       "      <td>chr1</td>\n",
       "      <td>6040000</td>\n",
       "      <td>6080000</td>\n",
       "      <td>.</td>\n",
       "      <td>.</td>\n",
       "      <td>+</td>\n",
       "    </tr>\n",
       "    <tr>\n",
       "      <th>2</th>\n",
       "      <td>chr1</td>\n",
       "      <td>12280000</td>\n",
       "      <td>12320000</td>\n",
       "      <td>.</td>\n",
       "      <td>.</td>\n",
       "      <td>+</td>\n",
       "    </tr>\n",
       "    <tr>\n",
       "      <th>3</th>\n",
       "      <td>chr1</td>\n",
       "      <td>12720000</td>\n",
       "      <td>12760000</td>\n",
       "      <td>.</td>\n",
       "      <td>.</td>\n",
       "      <td>+</td>\n",
       "    </tr>\n",
       "    <tr>\n",
       "      <th>4</th>\n",
       "      <td>chr1</td>\n",
       "      <td>15400000</td>\n",
       "      <td>15440000</td>\n",
       "      <td>.</td>\n",
       "      <td>.</td>\n",
       "      <td>+</td>\n",
       "    </tr>\n",
       "    <tr>\n",
       "      <th>6</th>\n",
       "      <td>chr1</td>\n",
       "      <td>18480000</td>\n",
       "      <td>18520000</td>\n",
       "      <td>.</td>\n",
       "      <td>.</td>\n",
       "      <td>+</td>\n",
       "    </tr>\n",
       "  </tbody>\n",
       "</table>\n",
       "</div>"
      ],
      "text/plain": [
       "  Chromosome     Start       End Name Score Strand\n",
       "0       chr1   6040000   6080000    .     .      +\n",
       "2       chr1  12280000  12320000    .     .      +\n",
       "3       chr1  12720000  12760000    .     .      +\n",
       "4       chr1  15400000  15440000    .     .      +\n",
       "6       chr1  18480000  18520000    .     .      +"
      ]
     },
     "execution_count": 89,
     "metadata": {},
     "output_type": "execute_result"
    }
   ],
   "source": [
    "#need to just take unique rows from DF\n",
    "compInsulationBoundsUnique = compInsulationBounds.df.drop_duplicates()\n",
    "\n",
    "print(len(compInsulationBoundsUnique))\n",
    "compInsulationBoundsUnique.head()"
   ]
  },
  {
   "cell_type": "code",
   "execution_count": 97,
   "metadata": {},
   "outputs": [
    {
     "name": "stdout",
     "output_type": "stream",
     "text": [
      "+--------------+-----------+-----------+------------+------------+----------+\n",
      "| Chromosome   | Start     | End       | Name       | Score      | Strand   |\n",
      "| (int8)       | (int32)   | (int32)   | (object)   | (object)   | (int8)   |\n",
      "|--------------+-----------+-----------+------------+------------+----------|\n",
      "| chr1         | 1000000   | 1040000   | .          | .          | +        |\n",
      "| chr1         | 1280000   | 1320000   | .          | .          | +        |\n",
      "| chr1         | 1400000   | 1440000   | .          | .          | +        |\n",
      "| ...          | ...       | ...       | ...        | ...        | ...      |\n",
      "| chrX         | 154080000 | 154120000 | .          | .          | +        |\n",
      "| chrX         | 154400000 | 154440000 | .          | .          | +        |\n",
      "| chrX         | 154480000 | 154520000 | .          | .          | +        |\n",
      "+--------------+-----------+-----------+------------+------------+----------+\n",
      "PyRanges object has 5081 sequences from 23 chromosomes.\n"
     ]
    }
   ],
   "source": [
    "#non overlapping insulation = TAD boundaries\n",
    "tadInsulationBounds = insRanges.no_overlap(cbCat)\n",
    "print(tadInsulationBounds)"
   ]
  },
  {
   "cell_type": "code",
   "execution_count": 90,
   "metadata": {},
   "outputs": [
    {
     "name": "stdout",
     "output_type": "stream",
     "text": [
      "5081\n"
     ]
    },
    {
     "data": {
      "text/html": [
       "<div>\n",
       "<style scoped>\n",
       "    .dataframe tbody tr th:only-of-type {\n",
       "        vertical-align: middle;\n",
       "    }\n",
       "\n",
       "    .dataframe tbody tr th {\n",
       "        vertical-align: top;\n",
       "    }\n",
       "\n",
       "    .dataframe thead th {\n",
       "        text-align: right;\n",
       "    }\n",
       "</style>\n",
       "<table border=\"1\" class=\"dataframe\">\n",
       "  <thead>\n",
       "    <tr style=\"text-align: right;\">\n",
       "      <th></th>\n",
       "      <th>Chromosome</th>\n",
       "      <th>Start</th>\n",
       "      <th>End</th>\n",
       "      <th>Name</th>\n",
       "      <th>Score</th>\n",
       "      <th>Strand</th>\n",
       "    </tr>\n",
       "  </thead>\n",
       "  <tbody>\n",
       "    <tr>\n",
       "      <th>0</th>\n",
       "      <td>chr1</td>\n",
       "      <td>1000000</td>\n",
       "      <td>1040000</td>\n",
       "      <td>.</td>\n",
       "      <td>.</td>\n",
       "      <td>+</td>\n",
       "    </tr>\n",
       "    <tr>\n",
       "      <th>1</th>\n",
       "      <td>chr1</td>\n",
       "      <td>1280000</td>\n",
       "      <td>1320000</td>\n",
       "      <td>.</td>\n",
       "      <td>.</td>\n",
       "      <td>+</td>\n",
       "    </tr>\n",
       "    <tr>\n",
       "      <th>2</th>\n",
       "      <td>chr1</td>\n",
       "      <td>1400000</td>\n",
       "      <td>1440000</td>\n",
       "      <td>.</td>\n",
       "      <td>.</td>\n",
       "      <td>+</td>\n",
       "    </tr>\n",
       "    <tr>\n",
       "      <th>3</th>\n",
       "      <td>chr1</td>\n",
       "      <td>1480000</td>\n",
       "      <td>1520000</td>\n",
       "      <td>.</td>\n",
       "      <td>.</td>\n",
       "      <td>+</td>\n",
       "    </tr>\n",
       "    <tr>\n",
       "      <th>4</th>\n",
       "      <td>chr1</td>\n",
       "      <td>1720000</td>\n",
       "      <td>1760000</td>\n",
       "      <td>.</td>\n",
       "      <td>.</td>\n",
       "      <td>+</td>\n",
       "    </tr>\n",
       "  </tbody>\n",
       "</table>\n",
       "</div>"
      ],
      "text/plain": [
       "  Chromosome    Start      End Name Score Strand\n",
       "0       chr1  1000000  1040000    .     .      +\n",
       "1       chr1  1280000  1320000    .     .      +\n",
       "2       chr1  1400000  1440000    .     .      +\n",
       "3       chr1  1480000  1520000    .     .      +\n",
       "4       chr1  1720000  1760000    .     .      +"
      ]
     },
     "execution_count": 90,
     "metadata": {},
     "output_type": "execute_result"
    }
   ],
   "source": [
    "tadInsulationBoundsUnique = tadInsulationBounds.df.drop_duplicates()\n",
    "print(len(tadInsulationBoundsUnique))\n",
    "tadInsulationBoundsUnique.head()"
   ]
  },
  {
   "cell_type": "code",
   "execution_count": 103,
   "metadata": {},
   "outputs": [],
   "source": [
    "#save the comp vs tad insulation boundaries\n",
    "compInsulationBoundsUnique.to_csv(\n",
    "    '{}/compartmentOverlap_insulation_bounds_AsyncR1R2.txt'.format(boundaryDir),\n",
    "    sep = \"\\t\", index = False)\n",
    "tadInsulationBoundsUnique.to_csv(    \n",
    "    '{}/TADonly_insulation_bounds_AsyncR1R2.txt'.format(boundaryDir),\n",
    "    sep = \"\\t\", index = False)"
   ]
  },
  {
   "cell_type": "code",
   "execution_count": null,
   "metadata": {},
   "outputs": [],
   "source": []
  }
 ],
 "metadata": {
  "kernelspec": {
   "display_name": "Python 3",
   "language": "python",
   "name": "python3"
  },
  "language_info": {
   "codemirror_mode": {
    "name": "ipython",
    "version": 3
   },
   "file_extension": ".py",
   "mimetype": "text/x-python",
   "name": "python",
   "nbconvert_exporter": "python",
   "pygments_lexer": "ipython3",
   "version": "3.6.7"
  }
 },
 "nbformat": 4,
 "nbformat_minor": 2
}
