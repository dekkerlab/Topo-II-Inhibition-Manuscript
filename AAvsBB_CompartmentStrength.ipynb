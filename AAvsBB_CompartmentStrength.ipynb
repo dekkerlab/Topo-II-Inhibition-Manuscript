{
 "cells": [
  {
   "cell_type": "code",
   "execution_count": null,
   "metadata": {},
   "outputs": [],
   "source": [
    "#AA vs BB compartment scores\n",
    "#requires cooltools\n",
    "\n",
    "def saddle_strengthAB(S, C):\n",
    "    \"\"\"\n",
    "    Parameters\n",
    "    ----------\n",
    "    S, C : 2D arrays, square, same shape\n",
    "        Saddle sums and counts, respectively\n",
    "        \n",
    "    Returns\n",
    "    -------\n",
    "    2x1D array\n",
    "    Ratios of cumulative corner interaction scores, where the saddle data is \n",
    "    separately AA/AB and BB/BA corners with increasing extent\n",
    "    \n",
    "    \"\"\"\n",
    "    m, n = S.shape\n",
    "    if m != n:\n",
    "        raise ValueError(\"`saddledata` should be square.\")\n",
    "\n",
    "    ratiosA = np.zeros(n)\n",
    "    for k in range(1, n):\n",
    "        intra_sumA = S[n-k:n, n-k:n].sum() \n",
    "        intra_countA = C[n-k:n, n-k:n].sum()\n",
    "        intraA = intra_sumA / intra_countA\n",
    "        \n",
    "        inter_sum = S[0:k, n-k:n].sum() + S[n-k:n, 0:k].sum()\n",
    "        inter_count =  C[0:k, n-k:n].sum() + C[n-k:n, 0:k].sum()\n",
    "        inter = inter_sum / inter_count\n",
    "        \n",
    "        ratiosA[k] = intraA / inter\n",
    "        \n",
    "    ratiosB = np.zeros(n)\n",
    "    for k in range(1, n):\n",
    "        intra_sumB = S[0:k, 0:k].sum()\n",
    "        intra_countB = C[0:k, 0:k].sum()\n",
    "        intraB = intra_sumB / intra_countB\n",
    "        \n",
    "        inter_sum = S[0:k, n-k:n].sum() + S[n-k:n, 0:k].sum()\n",
    "        inter_count =  C[0:k, n-k:n].sum() + C[n-k:n, 0:k].sum()\n",
    "        inter = inter_sum / inter_count\n",
    "        \n",
    "        ratiosB[k] = intraB / inter\n",
    "    \n",
    "    ratios = {\n",
    "        'A' : ratiosA,\n",
    "        'B' : ratiosB\n",
    "    }\n",
    "    \n",
    "    return ratios"
   ]
  }
 ],
 "metadata": {
  "kernelspec": {
   "display_name": "Python 3",
   "language": "python",
   "name": "python3"
  },
  "language_info": {
   "codemirror_mode": {
    "name": "ipython",
    "version": 3
   },
   "file_extension": ".py",
   "mimetype": "text/x-python",
   "name": "python",
   "nbconvert_exporter": "python",
   "pygments_lexer": "ipython3",
   "version": "3.6.7"
  }
 },
 "nbformat": 4,
 "nbformat_minor": 2
}
